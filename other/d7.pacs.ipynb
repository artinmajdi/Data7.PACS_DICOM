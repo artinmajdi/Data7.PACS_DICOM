{
 "cells": [
  {
   "cell_type": "code",
   "execution_count": 2,
   "metadata": {},
   "outputs": [
    {
     "name": "stdout",
     "output_type": "stream",
     "text": [
      "cannot find .env file\n"
     ]
    }
   ],
   "source": [
    "%reload_ext autoreload\n",
    "%reload_ext dotenv\n",
    "%autoreload 2\n",
    "\n",
    "import pydicom\n",
    "import pynetdicom\n",
    "from pynetdicom import AE, evt, build_role, debug_logger, sop_class\n",
    "from pydicom import uid\n",
    "import funcs\n",
    "import dotenv\n",
    "import pandas as pd\n",
    "import os\n",
    "import sys\n",
    "sys.path.append('.')\n",
    "\n",
    "%reload_ext funcs\n",
    "%dotenv config.env"
   ]
  },
  {
   "cell_type": "code",
   "execution_count": 23,
   "metadata": {},
   "outputs": [
    {
     "data": {
      "text/plain": [
       "'11112'"
      ]
     },
     "execution_count": 23,
     "metadata": {},
     "output_type": "execute_result"
    }
   ],
   "source": [
    "config = dotenv.dotenv_values() \n",
    "config_df = pd.DataFrame.from_dict(config ,  orient='index', columns=['value'])\n",
    "config['PORT']"
   ]
  },
  {
   "cell_type": "code",
   "execution_count": 7,
   "metadata": {},
   "outputs": [
    {
     "name": "stderr",
     "output_type": "stream",
     "text": [
      "I: Requesting Association\n",
      "I: Association Accepted\n",
      "I: Sending Get Request: MsgID 1\n",
      "I: \n",
      "I: # Request Identifier\n",
      "I: (0008,0052) CS [PATIENT]                                # 1 QueryRetrieveLevel\n",
      "I: (0010,0020) LO [007]                                    # 1 PatientID\n",
      "I: \n",
      "I: Get SCP Result: 0x0000 (Success)\n",
      "I: Sub-Operations Remaining: 0, Completed: 0, Failed: 0, Warning: 0\n",
      "I: Releasing Association\n"
     ]
    }
   ],
   "source": [
    "import subprocess\n",
    "\n",
    "os.makedirs( '/Users/personal-macbook/Documents/projects/D7.PACS/code/data/007' , exist_ok=True )\n",
    "\n",
    "command = 'nohup python -m pynetdicom getscu --output-directory /Users/personal-macbook/Documents/projects/D7.PACS/code/data/007 www.dicomserver.co.uk 11112 -k QueryRetrieveLevel=PATIENT -k PatientID=007 | tee -a /Users/personal-macbook/Documents/projects/D7.PACS/code/data/007/007.log &'\n",
    "p = subprocess.Popen('exec ' + command, stdout=subprocess.PIPE, shell=True)\n",
    "out, err = p.communicate()"
   ]
  },
  {
   "cell_type": "code",
   "execution_count": 10,
   "metadata": {},
   "outputs": [
    {
     "ename": "AttributeError",
     "evalue": "module 'tqdm' has no attribute 'pause'",
     "output_type": "error",
     "traceback": [
      "\u001b[0;31m---------------------------------------------------------------------------\u001b[0m",
      "\u001b[0;31mAttributeError\u001b[0m                            Traceback (most recent call last)",
      "\u001b[1;32m/Users/personal-macbook/Documents/projects/D7.PACS/code/d7.pacs.ipynb Cell 4\u001b[0m in \u001b[0;36m<cell line: 4>\u001b[0;34m()\u001b[0m\n\u001b[1;32m      <a href='vscode-notebook-cell:/Users/personal-macbook/Documents/projects/D7.PACS/code/d7.pacs.ipynb#X42sZmlsZQ%3D%3D?line=0'>1</a>\u001b[0m \u001b[39mimport\u001b[39;00m \u001b[39mtqdm\u001b[39;00m\n\u001b[1;32m      <a href='vscode-notebook-cell:/Users/personal-macbook/Documents/projects/D7.PACS/code/d7.pacs.ipynb#X42sZmlsZQ%3D%3D?line=1'>2</a>\u001b[0m \u001b[39mimport\u001b[39;00m \u001b[39mtime\u001b[39;00m \n\u001b[0;32m----> <a href='vscode-notebook-cell:/Users/personal-macbook/Documents/projects/D7.PACS/code/d7.pacs.ipynb#X42sZmlsZQ%3D%3D?line=3'>4</a>\u001b[0m tqdm\u001b[39m.\u001b[39;49mpause(\u001b[39m10\u001b[39m)\n",
      "\u001b[0;31mAttributeError\u001b[0m: module 'tqdm' has no attribute 'pause'"
     ]
    }
   ],
   "source": [
    "import tqdm\n",
    "import time \n",
    "\n",
    "tqdm.pause(10)"
   ]
  },
  {
   "cell_type": "markdown",
   "metadata": {},
   "source": [
    "## Send a C-echo request to a verification SCP\n",
    "\n",
    "Verification SOP Class has a UID of:  1.2.840.10008.1.1\n",
    "\n",
    "we can use the UID str directly when adding the requested presentation context"
   ]
  },
  {
   "cell_type": "markdown",
   "metadata": {},
   "source": [
    "# <span style='color:green'> Supported DIMSE Services </span>\n",
    "## <span style='color:orange'> SCU Services </span>\n",
    "When the AE is acting as an SCU and an association has been established with a peer SCP, the following DIMSE-C and -N services are available:\n",
    "\n",
    "\n",
    "| DIMSE service\t| Association method |\n",
    "|---\t|---|\n",
    "| C-ECHO\t| Association.send_c_echo() |\n",
    "| C-FIND\t| Association.send_c_find(dataset, query_model) |\n",
    "| C-GET\t| Association.send_c_get(dataset, query_model) |\n",
    "| C-MOVE\t| Association.send_c_move(dataset, move_aet, query_model) |\n",
    "| C-STORE\t| Association.send_c_store(dataset) |\n",
    "| N-ACTION\t| Association.send_n_action(dataset, action_type, class_uid, instance_uid) |\n",
    "| N-CREATE\t| Association.send_n_create(dataset, class_uid, instance_uid) |\n",
    "| N-DELETE\t| Association.send_n_delete(class_uid, instance_uid) |\n",
    "| N-EVENT-REPORT\t| Association.send_n_event_report(dataset, event_type, class_uid, instance_uid) |\n",
    "| N-GET\t| Association.send_n_get(identifier_list, class_uid, instance_uid) |\n",
    "| N-SET\t| Association.send_n_set(dataset, class_uid, instance_uid) |"
   ]
  },
  {
   "cell_type": "code",
   "execution_count": null,
   "metadata": {},
   "outputs": [],
   "source": [
    "addr = \"www.dicomserver.co.uk\"\n",
    "port = 104 # 11112\n",
    "ae_title=\"AET\"\n",
    "uid_verification_sop_class = '1.2.840.10008.1.1'\n",
    "\n",
    "\n",
    "# Associate with a peer AE at IP\n",
    "ae = AE(ae_title=ae_title)\n",
    "\n",
    "ae.add_requested_context(uid_verification_sop_class)\n",
    "\n",
    "associate = ae.associate(addr=addr, port=port)\n",
    "print('associate is' + ('' if associate.is_established else 'not') + ' established')\n",
    "\n",
    "# Example: Send a DIMSE C-ECHO request to the peer AE </span>\n",
    "status = associate.send_c_echo()\n",
    "print(status)\n",
    "\n",
    "# associate.release()"
   ]
  },
  {
   "cell_type": "markdown",
   "metadata": {},
   "source": [
    "# `send_c_find`\n",
    "\n",
    "```python\n",
    "AE().associate.send_c_get(dataset: Dataset, query_model: Union[str, UID], msg_id: int = 1, priority: int = 2)→ Iterator[Tuple[Dataset, Optional[Dataset]]][source]¶\n",
    "\n",
    "```\n",
    "\n",
    "Parameters\n",
    "- `dataset` (`pydicom.dataset.Dataset`) – The `C-GET` request’s Identifier dataset. The exact requirements for the Identifier are Service Class specific (see the DICOM Standard, Part 4).\n",
    "\n",
    "- `query_model` (`pydicom.uid.UID` or `str`) – The value to use for the `C-GET` request’s `(0000,0002)` Affected SOP Class UID parameter, which usually corresponds to the Information Model that is to be used.\n",
    "\n",
    "- `msg_id` (`int`, `optional`) – The `C-GET` request’s Message ID, must be between `0` and `65535`, inclusive, (**`default 1`**).\n",
    "\n",
    "- `priority` (`int`, `optional`) – The `C-GET` request’s Priority parameter, must be `0` (`Medium`), `1` (`High`) or `2` (`Low`) (**`default 2`**)\n",
    "\n",
    "\n",
    "\n",
    "\n",
    "```bash\n",
    "python -m pynetdicom findscu www.dicomserver.co.uk 104 -k QueryRetrieveLevel=STUDY\n",
    "\n",
    "```"
   ]
  },
  {
   "cell_type": "code",
   "execution_count": null,
   "metadata": {},
   "outputs": [],
   "source": [
    "from pynetdicom import AE, sop_class\n",
    "\n",
    "connect_To_PACS = funcs.Connect_To_PACS()\n",
    "\n",
    "connect_To_PACS.send_c_find(show_results=False, queryRetrieveLevel='STUDY', requestedContext=sop_class.PatientRootQueryRetrieveInformationModelFind)"
   ]
  },
  {
   "cell_type": "code",
   "execution_count": null,
   "metadata": {},
   "outputs": [],
   "source": [
    "connect_To_PACS.list_sample_info[10][0]"
   ]
  },
  {
   "cell_type": "markdown",
   "metadata": {},
   "source": [
    "# `send_c_get`"
   ]
  },
  {
   "cell_type": "code",
   "execution_count": null,
   "metadata": {},
   "outputs": [],
   "source": [
    "connect_To_PACS = funcs.Connect_To_PACS(port=11112)\n",
    "\n",
    "queryRetrieveLevel = 'PATIENT'\n",
    "subject_info={ 'PatientID':'PAT009', 'StudyInstanceUID':None, 'SeriesInstanceUID':None}\n",
    "\n",
    "connect_To_PACS.dataset(queryRetrieveLevel=queryRetrieveLevel, subject_info=subject_info)\n",
    "connect_To_PACS.associate(requestedContext=sop_class.PatientStudyOnlyQueryRetrieveInformationModelGet)\n",
    "connect_To_PACS.send_c_get(priority=0)\n",
    "\n",
    "a = connect_To_PACS.assoc.send_c_get(dataset=connect_To_PACS.ds, query_model=connect_To_PACS.requestedContext, priority=2)"
   ]
  },
  {
   "cell_type": "code",
   "execution_count": null,
   "metadata": {},
   "outputs": [],
   "source": [
    "import pandas as pd\n",
    "\n",
    "df = pd.read_csv('/Users/personal-macbook/Documents/test.csv')\n",
    "\n",
    "for i in df.values:\n",
    "    print(i)"
   ]
  },
  {
   "cell_type": "code",
   "execution_count": null,
   "metadata": {},
   "outputs": [],
   "source": [
    "subject_info={ 'PatientID':'PAT009', 'StudyInstanceUID':None, 'SeriesInstanceUID':None}\n",
    "a = subject_info.get('PatientID')\n",
    "print(a)"
   ]
  },
  {
   "cell_type": "code",
   "execution_count": null,
   "metadata": {},
   "outputs": [],
   "source": [
    "debug_logger()\n",
    "\n",
    "# Implement the handler for evt.EVT_C_STORE\n",
    "def handle_store(event):\n",
    "    \"\"\"Handle a C-STORE request event.\"\"\"\n",
    "    ds = event.dataset\n",
    "    ds.file_meta = event.file_meta\n",
    "\n",
    "    # Save the dataset using the SOP Instance UID as the filename\n",
    "    ds.save_as(ds.SOPInstanceUID + '.dcm', write_like_original=False)\n",
    "\n",
    "    # Return a 'Success' status\n",
    "    return 0x0000"
   ]
  },
  {
   "cell_type": "code",
   "execution_count": null,
   "metadata": {},
   "outputs": [],
   "source": [
    "# Initialise the Application Entity\n",
    "ae = AE()\n",
    "\n",
    "# Add the requested presentation contexts (QR SCU)\n",
    "ae.add_requested_context(sop_class.PatientRootQueryRetrieveInformationModelGet)\n",
    "\n",
    "# context = sop_class.CTImageStorage\n",
    "# how to request all existing files\n",
    "\n",
    "# Add the requested presentation context (Storage SCP)\n",
    "# ae.add_requested_context(context)\n",
    "\n",
    "# Create an SCP/SCU Role Selection Negotiation item for CT Image Storage\n",
    "# role = build_role(context, scp_role=True)\n",
    "\n",
    "handlers = [(evt.EVT_C_STORE, handle_store)]\n",
    "\n",
    "# Associate with peer AE at IP 127.0.0.1 and port 11112\n",
    "addr = \"www.dicomserver.co.uk\"\n",
    "port = 104 # 11112\n",
    "ae_title=\"AET\""
   ]
  },
  {
   "cell_type": "markdown",
   "metadata": {},
   "source": [
    "[source](https://pydicom.github.io/pynetdicom/stable/apps/getscu.html)\n",
    "\n",
    "```python\n",
    "python -m pynetdicom getscu --output-directory \".\" www.dicomserver.co.uk 11112 -k QueryRetrieveLevel=PATIENT -k PatientID=832040\n",
    "\n",
    "\n",
    "python -m pynetdicom getscu --output-directory \".\" www.dicomserver.co.uk 11112 -k QueryRetrieveLevel=STUDY -k (0008,0050)=<AccessionNumber>\n",
    "```"
   ]
  },
  {
   "cell_type": "code",
   "execution_count": null,
   "metadata": {},
   "outputs": [],
   "source": [
    "# assoc = ae.associate(addr=addr, port=port, ext_neg=[role], evt_handlers=handlers)\n",
    "assoc = ae.associate(addr=addr, port=port)\n",
    "\n",
    "# Create our Identifier (query) dataset\n",
    "# We need to supply a Unique Key Attribute for each level above the\n",
    "#   Query/Retrieve level\n",
    "ds = pydicom.dataset.Dataset()\n",
    "ds.QueryRetrieveLevel = 'PATIENT'\n",
    "\n",
    "# Unique key for PATIENT level\n",
    "ds.PatientID = '832040'\n",
    "\n",
    "# Unique key for STUDY level\n",
    "# ds.StudyInstanceUID = '1.2.3'\n",
    "\n",
    "# Unique key for SERIES level\n",
    "# ds.SeriesInstanceUID = '2'\n",
    "\n",
    "pynetdicom.get\n",
    "if assoc.is_established:\n",
    "    # Use the C-GET service to send the identifier\n",
    "    responses = assoc.send_c_get(ds, sop_class.PatientRootQueryRetrieveInformationModelGet)\n",
    "\n",
    "    for (status, identifier) in responses:\n",
    "        if status:\n",
    "            print('C-GET query status: 0x{0:04x}'.format(status.Status))\n",
    "        else:\n",
    "            print('Connection timed out, was aborted or received invalid response')\n",
    "\n",
    "    # # Release the association\n",
    "    assoc.release()\n",
    "else:\n",
    "    print('Association rejected, aborted or never connected')"
   ]
  },
  {
   "cell_type": "code",
   "execution_count": null,
   "metadata": {},
   "outputs": [],
   "source": [
    "# responses_list = list(responses)\n",
    "\n",
    "# responses_list"
   ]
  },
  {
   "cell_type": "code",
   "execution_count": null,
   "metadata": {},
   "outputs": [],
   "source": [
    "# responses_list.__len__()"
   ]
  },
  {
   "cell_type": "code",
   "execution_count": null,
   "metadata": {},
   "outputs": [],
   "source": []
  },
  {
   "cell_type": "code",
   "execution_count": null,
   "metadata": {},
   "outputs": [],
   "source": []
  },
  {
   "cell_type": "markdown",
   "metadata": {},
   "source": [
    "# Other Stuff"
   ]
  },
  {
   "cell_type": "code",
   "execution_count": null,
   "metadata": {},
   "outputs": [],
   "source": [
    "# from dataclasses import dataclass\n",
    "\n",
    "# # from pynetdicom.sop_class import VerificationSOPClass\n",
    "# from pynetdicom.sop_class import VerificationServiceClass, Verification\n",
    "\n",
    "\n",
    "# @dataclass\n",
    "# class Modality:\n",
    "#     addr: str\n",
    "#     port: int\n",
    "#     ae_title: str\n",
    "\n",
    "# class Association:\n",
    "#     def __init__(self, modality, context):\n",
    "#         self.modality = modality\n",
    "#         self.context = context\n",
    "\n",
    "#     def __enter__(self):\n",
    "#         ae = AE()\n",
    "#         ae.add_requested_context(self.context)\n",
    "#         self._association = ae.associate(**vars(self.modality))\n",
    "#         return self._association\n",
    "\n",
    "#     def __exit__(self, *args):\n",
    "#         self._association.release()\n",
    "#         self._association = None\n",
    "        \n",
    "        \n",
    "# modality = Modality('www.dicomserver.co.uk', 104, 'AET')\n",
    "\n",
    "\n",
    "# if __name__ == '__main__':\n",
    "#     modality = Modality('www.dicomserver.co.uk', 104, 'AET')\n",
    "\n",
    "#     with Association(modality, Verification) as assoc:\n",
    "#         resp = assoc.send_c_echo()\n",
    "#         # assoc.req\n",
    "#         print(f'Modality responded with status: {resp.Status}')\n",
    "        \n",
    "#         # request the list of studies\n",
    "#         resp = assoc.send_c_find()\n",
    "#         # for (status, dataset) in resp:\n",
    "#         #     print(f'Modality responded with status: {status}')\n",
    "#         #     if dataset:\n",
    "#         #         print(dataset)\n"
   ]
  },
  {
   "cell_type": "code",
   "execution_count": null,
   "metadata": {},
   "outputs": [],
   "source": [
    "import pandas as pd\n",
    "import logging\n",
    "import numpy as np"
   ]
  },
  {
   "cell_type": "code",
   "execution_count": null,
   "metadata": {},
   "outputs": [],
   "source": [
    "dir = '/Users/personal-macbook/Documents/projects/D7.PACS/code/test.csv'\n",
    "df = pd.read_csv(dir)\n",
    "dct = df.PatientID.to_dict()\n",
    "dct\n",
    "for name in dct:\n",
    "   print(name)"
   ]
  },
  {
   "cell_type": "code",
   "execution_count": null,
   "metadata": {},
   "outputs": [],
   "source": [
    "from app import Streamlit_App\n",
    "\n",
    "streamlit_app = Streamlit_App()\n",
    "# streamlit_app.getQueryRetrieveLevel()\n",
    "# streamlit_app.start_download()\n",
    "# streamlit_app.update_log()\n",
    "\n",
    "log_dir = '/Users/personal-macbook/Documents/projects/D7.PACS/code/downloaded_images/007/007.log'"
   ]
  },
  {
   "cell_type": "code",
   "execution_count": null,
   "metadata": {},
   "outputs": [],
   "source": [
    "with open(log_dir , 'r') as file:\n",
    "    log_file = file.read().splitlines()\n",
    "\n",
    "# Getting the indices for each downloaded file\n",
    "last_line_index = [i for i, s in enumerate(log_file) if 'Releasing Association' in s]\n",
    "index = [i for i, s in enumerate(log_file[:last_line_index[-1]]) if 'Storing DICOM file:' in s]"
   ]
  },
  {
   "cell_type": "code",
   "execution_count": null,
   "metadata": {},
   "outputs": [],
   "source": [
    "from tqdm import tqdm"
   ]
  },
  {
   "cell_type": "code",
   "execution_count": null,
   "metadata": {},
   "outputs": [],
   "source": [
    "df = pd.DataFrame()\n",
    "dct = {}\n",
    "for ix in tqdm(index):\n",
    "    \n",
    "    dct['case_name'] = log_file[ix].split('Storing DICOM file: ')[1]\n",
    "    \n",
    "    if 'W: DICOM file already exists, overwriting' in log_file[ix+1]:\n",
    "        ix += 1\n",
    "        \n",
    "    dct['SCP_Response']  = log_file[ix+1].split('SCP Response:')[1]    \n",
    "    dct[ 'Remaining'] = log_file[ix+2].split('Remaining:')[1].split(',')[0] ,\n",
    "    dct['Completed']  = log_file[ix+2].split('Completed:')[1].split(',')[0] ,\n",
    "    dct['Failed']         = log_file[ix+2].split('Failed:')[1].split(',')[0]\n",
    "    \n",
    "dct"
   ]
  },
  {
   "cell_type": "code",
   "execution_count": null,
   "metadata": {},
   "outputs": [],
   "source": []
  }
 ],
 "metadata": {
  "kernelspec": {
   "display_name": "Python 3.10.4 ('oct')",
   "language": "python",
   "name": "python3"
  },
  "language_info": {
   "codemirror_mode": {
    "name": "ipython",
    "version": 3
   },
   "file_extension": ".py",
   "mimetype": "text/x-python",
   "name": "python",
   "nbconvert_exporter": "python",
   "pygments_lexer": "ipython3",
   "version": "3.10.4"
  },
  "orig_nbformat": 4,
  "vscode": {
   "interpreter": {
    "hash": "faedcf1d659512b14e842c396de9301a3012e9305eb08b6a32ffd623863e3cfd"
   }
  }
 },
 "nbformat": 4,
 "nbformat_minor": 2
}
