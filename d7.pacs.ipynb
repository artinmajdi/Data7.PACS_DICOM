{
 "cells": [
  {
   "cell_type": "code",
   "execution_count": 1,
   "metadata": {},
   "outputs": [],
   "source": [
    "%reload_ext autoreload\n",
    "%autoreload 2\n",
    "\n",
    "import pydicom\n",
    "import pynetdicom\n",
    "from pynetdicom import AE\n",
    "from pydicom import uid\n",
    "import funcs\n",
    "import os\n",
    "import sys\n",
    "sys.path.append('.')\n",
    "\n",
    "%reload_ext funcs"
   ]
  },
  {
   "cell_type": "markdown",
   "metadata": {},
   "source": [
    "## Send a C-echo request to a verification SCP\n",
    "\n",
    "Verification SOP Class has a UID of:  1.2.840.10008.1.1\n",
    "\n",
    "we can use the UID str directly when adding the requested presentation context"
   ]
  },
  {
   "cell_type": "markdown",
   "metadata": {},
   "source": [
    "# <span style='color:green'> Supported DIMSE Services </span>\n",
    "## <span style='color:orange'> SCU Services </span>\n",
    "When the AE is acting as an SCU and an association has been established with a peer SCP, the following DIMSE-C and -N services are available:\n",
    "\n",
    "\n",
    "| DIMSE service\t| Association method |\n",
    "|---\t|---|\n",
    "| C-ECHO\t| Association.send_c_echo() |\n",
    "| C-FIND\t| Association.send_c_find(dataset, query_model) |\n",
    "| C-GET\t| Association.send_c_get(dataset, query_model) |\n",
    "| C-MOVE\t| Association.send_c_move(dataset, move_aet, query_model) |\n",
    "| C-STORE\t| Association.send_c_store(dataset) |\n",
    "| N-ACTION\t| Association.send_n_action(dataset, action_type, class_uid, instance_uid) |\n",
    "| N-CREATE\t| Association.send_n_create(dataset, class_uid, instance_uid) |\n",
    "| N-DELETE\t| Association.send_n_delete(class_uid, instance_uid) |\n",
    "| N-EVENT-REPORT\t| Association.send_n_event_report(dataset, event_type, class_uid, instance_uid) |\n",
    "| N-GET\t| Association.send_n_get(identifier_list, class_uid, instance_uid) |\n",
    "| N-SET\t| Association.send_n_set(dataset, class_uid, instance_uid) |"
   ]
  },
  {
   "cell_type": "code",
   "execution_count": 46,
   "metadata": {},
   "outputs": [
    {
     "name": "stdout",
     "output_type": "stream",
     "text": [
      "associate is established\n",
      "(0000, 0900) Status                              US: 0\n"
     ]
    }
   ],
   "source": [
    "addr = \"www.dicomserver.co.uk\"\n",
    "port = 104 # 11112\n",
    "ae_title=\"AET\"\n",
    "uid_verification_sop_class = '1.2.840.10008.1.1'\n",
    "\n",
    "\n",
    "# Associate with a peer AE at IP\n",
    "ae = AE(ae_title=ae_title)\n",
    "\n",
    "ae.add_requested_context(uid_verification_sop_class)\n",
    "\n",
    "associate = ae.associate(addr=addr, port=port)\n",
    "print('associate is' + ('' if associate.is_established else 'not') + ' established')\n",
    "\n",
    "# Example: Send a DIMSE C-ECHO request to the peer AE </span>\n",
    "status = associate.send_c_echo()\n",
    "print(status)\n",
    "\n",
    "# associate.release()"
   ]
  },
  {
   "cell_type": "markdown",
   "metadata": {},
   "source": [
    "# `send_c_find`\n",
    "\n",
    "```python\n",
    "AE().associate.send_c_get(dataset: Dataset, query_model: Union[str, UID], msg_id: int = 1, priority: int = 2)→ Iterator[Tuple[Dataset, Optional[Dataset]]][source]¶\n",
    "\n",
    "```\n",
    "\n",
    "Parameters\n",
    "- `dataset` (`pydicom.dataset.Dataset`) – The `C-GET` request’s Identifier dataset. The exact requirements for the Identifier are Service Class specific (see the DICOM Standard, Part 4).\n",
    "\n",
    "- `query_model` (`pydicom.uid.UID` or `str`) – The value to use for the `C-GET` request’s `(0000,0002)` Affected SOP Class UID parameter, which usually corresponds to the Information Model that is to be used.\n",
    "\n",
    "- `msg_id` (`int`, `optional`) – The `C-GET` request’s Message ID, must be between `0` and `65535`, inclusive, (**`default 1`**).\n",
    "\n",
    "- `priority` (`int`, `optional`) – The `C-GET` request’s Priority parameter, must be `0` (`Medium`), `1` (`High`) or `2` (`Low`) (**`default 2`**)\n",
    "\n",
    "\n",
    "\n",
    "\n",
    "```bash\n",
    "python -m pynetdicom findscu www.dicomserver.co.uk 104 -k QueryRetrieveLevel=STUDY\n",
    "\n",
    "```"
   ]
  },
  {
   "cell_type": "code",
   "execution_count": 19,
   "metadata": {},
   "outputs": [],
   "source": [
    "from pynetdicom import AE, sop_class\n",
    "\n",
    "connect_To_PACS = funcs.Connect_To_PACS()\n",
    "\n",
    "connect_To_PACS.send_c_find(show_results=False, queryRetrieveLevel='STUDY', requestedContext=sop_class.PatientRootQueryRetrieveInformationModelFind)"
   ]
  },
  {
   "cell_type": "code",
   "execution_count": 31,
   "metadata": {},
   "outputs": [
    {
     "data": {
      "text/plain": [
       "(0000, 0900) Status                              US: 65280"
      ]
     },
     "execution_count": 31,
     "metadata": {},
     "output_type": "execute_result"
    }
   ],
   "source": [
    "connect_To_PACS.list_sample_info[10][0]"
   ]
  },
  {
   "cell_type": "markdown",
   "metadata": {},
   "source": [
    "# `send_c_get`"
   ]
  },
  {
   "cell_type": "code",
   "execution_count": 21,
   "metadata": {},
   "outputs": [
    {
     "name": "stderr",
     "output_type": "stream",
     "text": [
      "I: Requesting Association\n",
      "D: Request Parameters:\n",
      "D: ======================= OUTGOING A-ASSOCIATE-RQ PDU ========================\n",
      "D: Our Implementation Class UID:      1.2.826.0.1.3680043.9.3811.2.0.2\n",
      "D: Our Implementation Version Name:   PYNETDICOM_202\n",
      "D: Application Context Name:    1.2.840.10008.3.1.1.1\n",
      "D: Calling Application Name:    PYNETDICOM\n",
      "D: Called Application Name:     ANY-SCP\n",
      "D: Our Max PDU Receive Size:    16382\n",
      "D: Presentation Contexts:\n",
      "D:   Context ID:        1 (Proposed)\n",
      "D:     Abstract Syntax: =Patient Root Query/Retrieve Information Model - GET\n",
      "D:     Proposed SCP/SCU Role: Default\n",
      "D:     Proposed Transfer Syntaxes:\n",
      "D:       =Implicit VR Little Endian\n",
      "D:       =Explicit VR Little Endian\n",
      "D:       =Deflated Explicit VR Little Endian\n",
      "D:       =Explicit VR Big Endian\n",
      "D:   Context ID:        3 (Proposed)\n",
      "D:     Abstract Syntax: =CT Image Storage\n",
      "D:     Proposed SCP/SCU Role: SCP\n",
      "D:     Proposed Transfer Syntaxes:\n",
      "D:       =Implicit VR Little Endian\n",
      "D:       =Explicit VR Little Endian\n",
      "D:       =Deflated Explicit VR Little Endian\n",
      "D:       =Explicit VR Big Endian\n",
      "D: Requested Extended Negotiation: None\n",
      "D: Requested Common Extended Negotiation: None\n",
      "D: Requested Asynchronous Operations Window Negotiation: None\n",
      "D: Requested User Identity Negotiation: None\n",
      "D: ========================== END A-ASSOCIATE-RQ PDU ==========================\n",
      "D: Accept Parameters:\n",
      "D: ======================= INCOMING A-ASSOCIATE-AC PDU ========================\n",
      "D: Their Implementation Class UID:    1.2.826.0.1.3680043.1.2.100.8.40.120.0\n",
      "D: Their Implementation Version Name: DicomObjects.NET\n",
      "D: Application Context Name:    1.2.840.10008.3.1.1.1\n",
      "D: Calling Application Name:    PYNETDICOM\n",
      "D: Called Application Name:     ANY-SCP\n",
      "D: Their Max PDU Receive Size:  65536\n",
      "D: Presentation Contexts:\n",
      "D:   Context ID:        1 (Accepted)\n",
      "D:     Abstract Syntax: =Patient Root Query/Retrieve Information Model - GET\n",
      "D:     Accepted SCP/SCU Role: Default\n",
      "D:     Accepted Transfer Syntax: =Explicit VR Little Endian\n",
      "D:   Context ID:        3 (Accepted)\n",
      "D:     Abstract Syntax: =CT Image Storage\n",
      "D:     Accepted SCP/SCU Role: SCP\n",
      "D:     Accepted Transfer Syntax: =Explicit VR Little Endian\n",
      "D: Accepted Extended Negotiation: None\n",
      "D: Accepted Asynchronous Operations Window Negotiation: None\n",
      "D: User Identity Negotiation Response: None\n",
      "D: ========================== END A-ASSOCIATE-AC PDU ==========================\n",
      "I: Association Accepted\n",
      "I: Sending Get Request: MsgID 1\n",
      "I: \n",
      "I: # Request Identifier\n",
      "I: (0008,0052) CS [PATIENT]                                # 1 QueryRetrieveLevel\n",
      "I: (0010,0020) LO [NOID]                                   # 1 PatientID\n",
      "I: \n",
      "D: ========================== OUTGOING DIMSE MESSAGE ==========================\n",
      "D: Message Type                  : C-GET RQ\n",
      "D: Message ID                    : 1\n",
      "D: Affected SOP Class UID        : Patient Root Query/Retrieve Information Model - GET\n",
      "D: Identifier                    : Present\n",
      "D: Priority                      : Low\n",
      "D: ============================ END DIMSE MESSAGE =============================\n",
      "D: pydicom.read_dataset() TransferSyntax=\"Little Endian Implicit\"\n",
      "I: Received Store Request\n",
      "D: ========================== INCOMING DIMSE MESSAGE ==========================\n",
      "D: Message Type                  : C-STORE RQ\n",
      "D: Presentation Context ID       : 3\n",
      "D: Message ID                    : 17307\n",
      "D: Affected SOP Class UID        : CT Image Storage\n",
      "D: Affected SOP Instance UID     : 1.3.6.1.4.1.5962.99.1.1761388472.1291962045.1616669124536.2590.0\n",
      "D: Data Set                      : Present\n",
      "D: Priority                      : Medium\n",
      "D: ============================ END DIMSE MESSAGE =============================\n",
      "D: pydicom.read_dataset() TransferSyntax=\"Little Endian Explicit\"\n",
      "D: pydicom.read_dataset() TransferSyntax=\"Little Endian Implicit\"\n",
      "D: ========================== INCOMING DIMSE MESSAGE ==========================\n",
      "D: Message Type                  : C-GET RSP\n",
      "D: Presentation Context ID       : 1\n",
      "D: Message ID Being Responded To : 1\n",
      "D: Affected SOP Class UID        : Patient Root Query/Retrieve Information Model - GET\n",
      "D: Remaining Sub-operations      : 303\n",
      "D: Completed Sub-operations      : 1\n",
      "D: Failed Sub-operations         : 0\n",
      "D: Warning Sub-operations        : 0\n",
      "D: Identifier                    : None\n",
      "D: Status                        : 0xFF00\n",
      "D: ============================ END DIMSE MESSAGE =============================\n",
      "D: \n",
      "I: Get SCP Response: 1 - 0xFF00 (Pending)\n",
      "I: Sub-Operations Remaining: 303, Completed: 1, Failed: 0, Warning: 0\n",
      "D: pydicom.read_dataset() TransferSyntax=\"Little Endian Implicit\"\n"
     ]
    },
    {
     "name": "stdout",
     "output_type": "stream",
     "text": [
      "C-GET query status: 0xff00\n"
     ]
    },
    {
     "name": "stderr",
     "output_type": "stream",
     "text": [
      "I: Received Store Request\n",
      "D: ========================== INCOMING DIMSE MESSAGE ==========================\n",
      "D: Message Type                  : C-STORE RQ\n",
      "D: Presentation Context ID       : 3\n",
      "D: Message ID                    : 17308\n",
      "D: Affected SOP Class UID        : CT Image Storage\n",
      "D: Affected SOP Instance UID     : 1.3.6.1.4.1.5962.99.1.1761388472.1291962045.1616669124536.2595.0\n",
      "D: Data Set                      : Present\n",
      "D: Priority                      : Medium\n",
      "D: ============================ END DIMSE MESSAGE =============================\n",
      "D: pydicom.read_dataset() TransferSyntax=\"Little Endian Explicit\"\n",
      "D: pydicom.read_dataset() TransferSyntax=\"Little Endian Implicit\"\n",
      "D: ========================== INCOMING DIMSE MESSAGE ==========================\n",
      "D: Message Type                  : C-GET RSP\n",
      "D: Presentation Context ID       : 1\n",
      "D: Message ID Being Responded To : 1\n",
      "D: Affected SOP Class UID        : Patient Root Query/Retrieve Information Model - GET\n",
      "D: Remaining Sub-operations      : 302\n",
      "D: Completed Sub-operations      : 2\n",
      "D: Failed Sub-operations         : 0\n",
      "D: Warning Sub-operations        : 0\n",
      "D: Identifier                    : None\n",
      "D: Status                        : 0xFF00\n",
      "D: ============================ END DIMSE MESSAGE =============================\n",
      "D: pydicom.read_dataset() TransferSyntax=\"Little Endian Implicit\"\n",
      "D: \n",
      "I: Get SCP Response: 2 - 0xFF00 (Pending)\n",
      "I: Sub-Operations Remaining: 302, Completed: 2, Failed: 0, Warning: 0\n"
     ]
    },
    {
     "name": "stdout",
     "output_type": "stream",
     "text": [
      "C-GET query status: 0xff00\n"
     ]
    },
    {
     "name": "stderr",
     "output_type": "stream",
     "text": [
      "I: Received Store Request\n",
      "D: ========================== INCOMING DIMSE MESSAGE ==========================\n",
      "D: Message Type                  : C-STORE RQ\n",
      "D: Presentation Context ID       : 3\n",
      "D: Message ID                    : 17309\n",
      "D: Affected SOP Class UID        : CT Image Storage\n",
      "D: Affected SOP Instance UID     : 1.3.6.1.4.1.5962.99.1.1761388472.1291962045.1616669124536.2597.0\n",
      "D: Data Set                      : Present\n",
      "D: Priority                      : Medium\n",
      "D: ============================ END DIMSE MESSAGE =============================\n",
      "D: pydicom.read_dataset() TransferSyntax=\"Little Endian Explicit\"\n",
      "D: pydicom.read_dataset() TransferSyntax=\"Little Endian Implicit\"\n",
      "D: ========================== INCOMING DIMSE MESSAGE ==========================\n",
      "D: Message Type                  : C-GET RSP\n",
      "D: Presentation Context ID       : 1\n",
      "D: Message ID Being Responded To : 1\n",
      "D: Affected SOP Class UID        : Patient Root Query/Retrieve Information Model - GET\n",
      "D: Remaining Sub-operations      : 301\n",
      "D: Completed Sub-operations      : 3\n",
      "D: Failed Sub-operations         : 0\n",
      "D: Warning Sub-operations        : 0\n",
      "D: Identifier                    : None\n",
      "D: Status                        : 0xFF00\n",
      "D: ============================ END DIMSE MESSAGE =============================\n",
      "D: \n",
      "I: Get SCP Response: 3 - 0xFF00 (Pending)\n",
      "I: Sub-Operations Remaining: 301, Completed: 3, Failed: 0, Warning: 0\n",
      "D: pydicom.read_dataset() TransferSyntax=\"Little Endian Implicit\"\n"
     ]
    },
    {
     "name": "stdout",
     "output_type": "stream",
     "text": [
      "C-GET query status: 0xff00\n"
     ]
    },
    {
     "name": "stderr",
     "output_type": "stream",
     "text": [
      "I: Received Store Request\n",
      "D: ========================== INCOMING DIMSE MESSAGE ==========================\n",
      "D: Message Type                  : C-STORE RQ\n",
      "D: Presentation Context ID       : 3\n",
      "D: Message ID                    : 17310\n",
      "D: Affected SOP Class UID        : CT Image Storage\n",
      "D: Affected SOP Instance UID     : 1.3.6.1.4.1.5962.99.1.1761388472.1291962045.1616669124536.2600.0\n",
      "D: Data Set                      : Present\n",
      "D: Priority                      : Medium\n",
      "D: ============================ END DIMSE MESSAGE =============================\n",
      "D: pydicom.read_dataset() TransferSyntax=\"Little Endian Explicit\"\n",
      "D: pydicom.read_dataset() TransferSyntax=\"Little Endian Implicit\"\n",
      "D: ========================== INCOMING DIMSE MESSAGE ==========================\n",
      "D: Message Type                  : C-GET RSP\n",
      "D: Presentation Context ID       : 1\n",
      "D: Message ID Being Responded To : 1\n",
      "D: Affected SOP Class UID        : Patient Root Query/Retrieve Information Model - GET\n",
      "D: Remaining Sub-operations      : 300\n",
      "D: Completed Sub-operations      : 4\n",
      "D: Failed Sub-operations         : 0\n",
      "D: Warning Sub-operations        : 0\n",
      "D: Identifier                    : None\n",
      "D: Status                        : 0xFF00\n",
      "D: ============================ END DIMSE MESSAGE =============================\n",
      "D: \n",
      "I: Get SCP Response: 4 - 0xFF00 (Pending)\n",
      "I: Sub-Operations Remaining: 300, Completed: 4, Failed: 0, Warning: 0\n",
      "D: pydicom.read_dataset() TransferSyntax=\"Little Endian Implicit\"\n"
     ]
    },
    {
     "name": "stdout",
     "output_type": "stream",
     "text": [
      "C-GET query status: 0xff00\n"
     ]
    },
    {
     "name": "stderr",
     "output_type": "stream",
     "text": [
      "I: Received Store Request\n",
      "D: ========================== INCOMING DIMSE MESSAGE ==========================\n",
      "D: Message Type                  : C-STORE RQ\n",
      "D: Presentation Context ID       : 3\n",
      "D: Message ID                    : 17311\n",
      "D: Affected SOP Class UID        : CT Image Storage\n",
      "D: Affected SOP Instance UID     : 1.3.6.1.4.1.5962.99.1.1761388472.1291962045.1616669124536.2601.0\n",
      "D: Data Set                      : Present\n",
      "D: Priority                      : Medium\n",
      "D: ============================ END DIMSE MESSAGE =============================\n",
      "D: pydicom.read_dataset() TransferSyntax=\"Little Endian Explicit\"\n",
      "D: pydicom.read_dataset() TransferSyntax=\"Little Endian Implicit\"\n",
      "D: ========================== INCOMING DIMSE MESSAGE ==========================\n",
      "D: Message Type                  : C-GET RSP\n",
      "D: Presentation Context ID       : 1\n",
      "D: Message ID Being Responded To : 1\n",
      "D: Affected SOP Class UID        : Patient Root Query/Retrieve Information Model - GET\n",
      "D: Remaining Sub-operations      : 299\n",
      "D: Completed Sub-operations      : 5\n",
      "D: Failed Sub-operations         : 0\n",
      "D: Warning Sub-operations        : 0\n",
      "D: Identifier                    : None\n",
      "D: Status                        : 0xFF00\n",
      "D: ============================ END DIMSE MESSAGE =============================\n",
      "D: \n",
      "I: Get SCP Response: 5 - 0xFF00 (Pending)\n",
      "I: Sub-Operations Remaining: 299, Completed: 5, Failed: 0, Warning: 0\n",
      "D: pydicom.read_dataset() TransferSyntax=\"Little Endian Implicit\"\n"
     ]
    },
    {
     "name": "stdout",
     "output_type": "stream",
     "text": [
      "C-GET query status: 0xff00\n"
     ]
    },
    {
     "name": "stderr",
     "output_type": "stream",
     "text": [
      "I: Received Store Request\n",
      "D: ========================== INCOMING DIMSE MESSAGE ==========================\n",
      "D: Message Type                  : C-STORE RQ\n",
      "D: Presentation Context ID       : 3\n",
      "D: Message ID                    : 17312\n",
      "D: Affected SOP Class UID        : CT Image Storage\n",
      "D: Affected SOP Instance UID     : 1.3.6.1.4.1.5962.99.1.1761388472.1291962045.1616669124536.2602.0\n",
      "D: Data Set                      : Present\n",
      "D: Priority                      : Medium\n",
      "D: ============================ END DIMSE MESSAGE =============================\n",
      "D: pydicom.read_dataset() TransferSyntax=\"Little Endian Explicit\"\n",
      "D: pydicom.read_dataset() TransferSyntax=\"Little Endian Implicit\"\n",
      "D: ========================== INCOMING DIMSE MESSAGE ==========================\n",
      "D: Message Type                  : C-GET RSP\n",
      "D: Presentation Context ID       : 1\n",
      "D: Message ID Being Responded To : 1\n",
      "D: Affected SOP Class UID        : Patient Root Query/Retrieve Information Model - GET\n",
      "D: Remaining Sub-operations      : 298\n",
      "D: Completed Sub-operations      : 6\n",
      "D: Failed Sub-operations         : 0\n",
      "D: Warning Sub-operations        : 0\n",
      "D: Identifier                    : None\n",
      "D: Status                        : 0xFF00\n",
      "D: ============================ END DIMSE MESSAGE =============================\n",
      "D: pydicom.read_dataset() TransferSyntax=\"Little Endian Implicit\"\n",
      "D: \n",
      "I: Get SCP Response: 6 - 0xFF00 (Pending)\n",
      "I: Sub-Operations Remaining: 298, Completed: 6, Failed: 0, Warning: 0\n"
     ]
    },
    {
     "name": "stdout",
     "output_type": "stream",
     "text": [
      "C-GET query status: 0xff00\n"
     ]
    },
    {
     "name": "stderr",
     "output_type": "stream",
     "text": [
      "I: Received Store Request\n",
      "D: ========================== INCOMING DIMSE MESSAGE ==========================\n",
      "D: Message Type                  : C-STORE RQ\n",
      "D: Presentation Context ID       : 3\n",
      "D: Message ID                    : 17313\n",
      "D: Affected SOP Class UID        : CT Image Storage\n",
      "D: Affected SOP Instance UID     : 1.3.6.1.4.1.5962.99.1.1761388472.1291962045.1616669124536.2603.0\n",
      "D: Data Set                      : Present\n",
      "D: Priority                      : Medium\n",
      "D: ============================ END DIMSE MESSAGE =============================\n",
      "D: pydicom.read_dataset() TransferSyntax=\"Little Endian Explicit\"\n",
      "D: pydicom.read_dataset() TransferSyntax=\"Little Endian Implicit\"\n",
      "D: ========================== INCOMING DIMSE MESSAGE ==========================\n",
      "D: Message Type                  : C-GET RSP\n",
      "D: Presentation Context ID       : 1\n",
      "D: Message ID Being Responded To : 1\n",
      "D: Affected SOP Class UID        : Patient Root Query/Retrieve Information Model - GET\n",
      "D: Remaining Sub-operations      : 297\n",
      "D: Completed Sub-operations      : 7\n",
      "D: Failed Sub-operations         : 0\n",
      "D: Warning Sub-operations        : 0\n",
      "D: Identifier                    : None\n",
      "D: Status                        : 0xFF00\n",
      "D: ============================ END DIMSE MESSAGE =============================\n",
      "D: \n",
      "I: Get SCP Response: 7 - 0xFF00 (Pending)\n",
      "I: Sub-Operations Remaining: 297, Completed: 7, Failed: 0, Warning: 0\n",
      "D: pydicom.read_dataset() TransferSyntax=\"Little Endian Implicit\"\n"
     ]
    },
    {
     "name": "stdout",
     "output_type": "stream",
     "text": [
      "C-GET query status: 0xff00\n"
     ]
    },
    {
     "name": "stderr",
     "output_type": "stream",
     "text": [
      "I: Received Store Request\n",
      "D: ========================== INCOMING DIMSE MESSAGE ==========================\n",
      "D: Message Type                  : C-STORE RQ\n",
      "D: Presentation Context ID       : 3\n",
      "D: Message ID                    : 17314\n",
      "D: Affected SOP Class UID        : CT Image Storage\n",
      "D: Affected SOP Instance UID     : 1.3.6.1.4.1.5962.99.1.1761388472.1291962045.1616669124536.2604.0\n",
      "D: Data Set                      : Present\n",
      "D: Priority                      : Medium\n",
      "D: ============================ END DIMSE MESSAGE =============================\n",
      "D: pydicom.read_dataset() TransferSyntax=\"Little Endian Explicit\"\n",
      "D: pydicom.read_dataset() TransferSyntax=\"Little Endian Implicit\"\n",
      "D: ========================== INCOMING DIMSE MESSAGE ==========================\n",
      "D: Message Type                  : C-GET RSP\n",
      "D: Presentation Context ID       : 1\n",
      "D: Message ID Being Responded To : 1\n",
      "D: Affected SOP Class UID        : Patient Root Query/Retrieve Information Model - GET\n",
      "D: Remaining Sub-operations      : 296\n",
      "D: Completed Sub-operations      : 8\n",
      "D: Failed Sub-operations         : 0\n",
      "D: Warning Sub-operations        : 0\n",
      "D: Identifier                    : None\n",
      "D: Status                        : 0xFF00\n",
      "D: ============================ END DIMSE MESSAGE =============================\n",
      "D: \n",
      "I: Get SCP Response: 8 - 0xFF00 (Pending)\n",
      "I: Sub-Operations Remaining: 296, Completed: 8, Failed: 0, Warning: 0\n",
      "D: pydicom.read_dataset() TransferSyntax=\"Little Endian Implicit\"\n"
     ]
    },
    {
     "name": "stdout",
     "output_type": "stream",
     "text": [
      "C-GET query status: 0xff00\n"
     ]
    },
    {
     "name": "stderr",
     "output_type": "stream",
     "text": [
      "I: Received Store Request\n",
      "D: ========================== INCOMING DIMSE MESSAGE ==========================\n",
      "D: Message Type                  : C-STORE RQ\n",
      "D: Presentation Context ID       : 3\n",
      "D: Message ID                    : 17315\n",
      "D: Affected SOP Class UID        : CT Image Storage\n",
      "D: Affected SOP Instance UID     : 1.3.6.1.4.1.5962.99.1.1761388472.1291962045.1616669124536.2605.0\n",
      "D: Data Set                      : Present\n",
      "D: Priority                      : Medium\n",
      "D: ============================ END DIMSE MESSAGE =============================\n",
      "D: pydicom.read_dataset() TransferSyntax=\"Little Endian Explicit\"\n",
      "D: pydicom.read_dataset() TransferSyntax=\"Little Endian Implicit\"\n",
      "D: ========================== INCOMING DIMSE MESSAGE ==========================\n",
      "D: Message Type                  : C-GET RSP\n",
      "D: Presentation Context ID       : 1\n",
      "D: Message ID Being Responded To : 1\n",
      "D: Affected SOP Class UID        : Patient Root Query/Retrieve Information Model - GET\n",
      "D: Remaining Sub-operations      : 295\n",
      "D: Completed Sub-operations      : 9\n",
      "D: Failed Sub-operations         : 0\n",
      "D: Warning Sub-operations        : 0\n",
      "D: Identifier                    : None\n",
      "D: Status                        : 0xFF00\n",
      "D: ============================ END DIMSE MESSAGE =============================\n",
      "D: \n",
      "I: Get SCP Response: 9 - 0xFF00 (Pending)\n",
      "I: Sub-Operations Remaining: 295, Completed: 9, Failed: 0, Warning: 0\n",
      "D: pydicom.read_dataset() TransferSyntax=\"Little Endian Implicit\"\n"
     ]
    },
    {
     "name": "stdout",
     "output_type": "stream",
     "text": [
      "C-GET query status: 0xff00\n"
     ]
    },
    {
     "name": "stderr",
     "output_type": "stream",
     "text": [
      "I: Received Store Request\n",
      "D: ========================== INCOMING DIMSE MESSAGE ==========================\n",
      "D: Message Type                  : C-STORE RQ\n",
      "D: Presentation Context ID       : 3\n",
      "D: Message ID                    : 17316\n",
      "D: Affected SOP Class UID        : CT Image Storage\n",
      "D: Affected SOP Instance UID     : 1.3.6.1.4.1.5962.99.1.1761388472.1291962045.1616669124536.2606.0\n",
      "D: Data Set                      : Present\n",
      "D: Priority                      : Medium\n",
      "D: ============================ END DIMSE MESSAGE =============================\n",
      "D: pydicom.read_dataset() TransferSyntax=\"Little Endian Explicit\"\n",
      "D: pydicom.read_dataset() TransferSyntax=\"Little Endian Implicit\"\n",
      "D: ========================== INCOMING DIMSE MESSAGE ==========================\n",
      "D: Message Type                  : C-GET RSP\n",
      "D: Presentation Context ID       : 1\n",
      "D: Message ID Being Responded To : 1\n",
      "D: Affected SOP Class UID        : Patient Root Query/Retrieve Information Model - GET\n",
      "D: Remaining Sub-operations      : 294\n",
      "D: Completed Sub-operations      : 10\n",
      "D: Failed Sub-operations         : 0\n",
      "D: Warning Sub-operations        : 0\n",
      "D: Identifier                    : None\n",
      "D: Status                        : 0xFF00\n",
      "D: ============================ END DIMSE MESSAGE =============================\n",
      "D: \n",
      "I: Get SCP Response: 10 - 0xFF00 (Pending)\n",
      "I: Sub-Operations Remaining: 294, Completed: 10, Failed: 0, Warning: 0\n",
      "D: pydicom.read_dataset() TransferSyntax=\"Little Endian Implicit\"\n"
     ]
    },
    {
     "name": "stdout",
     "output_type": "stream",
     "text": [
      "C-GET query status: 0xff00\n"
     ]
    },
    {
     "name": "stderr",
     "output_type": "stream",
     "text": [
      "I: Received Store Request\n",
      "D: ========================== INCOMING DIMSE MESSAGE ==========================\n",
      "D: Message Type                  : C-STORE RQ\n",
      "D: Presentation Context ID       : 3\n",
      "D: Message ID                    : 17317\n",
      "D: Affected SOP Class UID        : CT Image Storage\n",
      "D: Affected SOP Instance UID     : 1.3.6.1.4.1.5962.99.1.1761388472.1291962045.1616669124536.2607.0\n",
      "D: Data Set                      : Present\n",
      "D: Priority                      : Medium\n",
      "D: ============================ END DIMSE MESSAGE =============================\n",
      "D: pydicom.read_dataset() TransferSyntax=\"Little Endian Explicit\"\n",
      "D: pydicom.read_dataset() TransferSyntax=\"Little Endian Implicit\"\n",
      "D: ========================== INCOMING DIMSE MESSAGE ==========================\n",
      "D: Message Type                  : C-GET RSP\n",
      "D: Presentation Context ID       : 1\n",
      "D: Message ID Being Responded To : 1\n",
      "D: Affected SOP Class UID        : Patient Root Query/Retrieve Information Model - GET\n",
      "D: Remaining Sub-operations      : 293\n",
      "D: Completed Sub-operations      : 11\n",
      "D: Failed Sub-operations         : 0\n",
      "D: Warning Sub-operations        : 0\n",
      "D: Identifier                    : None\n",
      "D: Status                        : 0xFF00\n",
      "D: ============================ END DIMSE MESSAGE =============================\n",
      "D: pydicom.read_dataset() TransferSyntax=\"Little Endian Implicit\"\n",
      "D: \n",
      "I: Get SCP Response: 11 - 0xFF00 (Pending)\n",
      "I: Sub-Operations Remaining: 293, Completed: 11, Failed: 0, Warning: 0\n"
     ]
    },
    {
     "name": "stdout",
     "output_type": "stream",
     "text": [
      "C-GET query status: 0xff00\n"
     ]
    },
    {
     "name": "stderr",
     "output_type": "stream",
     "text": [
      "I: Received Store Request\n",
      "D: ========================== INCOMING DIMSE MESSAGE ==========================\n",
      "D: Message Type                  : C-STORE RQ\n",
      "D: Presentation Context ID       : 3\n",
      "D: Message ID                    : 17318\n",
      "D: Affected SOP Class UID        : CT Image Storage\n",
      "D: Affected SOP Instance UID     : 1.3.6.1.4.1.5962.99.1.1761388472.1291962045.1616669124536.2608.0\n",
      "D: Data Set                      : Present\n",
      "D: Priority                      : Medium\n",
      "D: ============================ END DIMSE MESSAGE =============================\n",
      "D: pydicom.read_dataset() TransferSyntax=\"Little Endian Explicit\"\n",
      "D: pydicom.read_dataset() TransferSyntax=\"Little Endian Implicit\"\n",
      "D: ========================== INCOMING DIMSE MESSAGE ==========================\n",
      "D: Message Type                  : C-GET RSP\n",
      "D: Presentation Context ID       : 1\n",
      "D: Message ID Being Responded To : 1\n",
      "D: Affected SOP Class UID        : Patient Root Query/Retrieve Information Model - GET\n",
      "D: Remaining Sub-operations      : 292\n",
      "D: Completed Sub-operations      : 12\n",
      "D: Failed Sub-operations         : 0\n",
      "D: Warning Sub-operations        : 0\n",
      "D: Identifier                    : None\n",
      "D: Status                        : 0xFF00\n",
      "D: ============================ END DIMSE MESSAGE =============================\n",
      "D: pydicom.read_dataset() TransferSyntax=\"Little Endian Implicit\"\n",
      "D: \n",
      "I: Get SCP Response: 12 - 0xFF00 (Pending)\n",
      "I: Sub-Operations Remaining: 292, Completed: 12, Failed: 0, Warning: 0\n"
     ]
    },
    {
     "name": "stdout",
     "output_type": "stream",
     "text": [
      "C-GET query status: 0xff00\n"
     ]
    },
    {
     "name": "stderr",
     "output_type": "stream",
     "text": [
      "I: Received Store Request\n",
      "D: ========================== INCOMING DIMSE MESSAGE ==========================\n",
      "D: Message Type                  : C-STORE RQ\n",
      "D: Presentation Context ID       : 3\n",
      "D: Message ID                    : 17319\n",
      "D: Affected SOP Class UID        : CT Image Storage\n",
      "D: Affected SOP Instance UID     : 1.3.6.1.4.1.5962.99.1.1761388472.1291962045.1616669124536.2609.0\n",
      "D: Data Set                      : Present\n",
      "D: Priority                      : Medium\n",
      "D: ============================ END DIMSE MESSAGE =============================\n",
      "D: pydicom.read_dataset() TransferSyntax=\"Little Endian Explicit\"\n",
      "D: pydicom.read_dataset() TransferSyntax=\"Little Endian Implicit\"\n",
      "D: ========================== INCOMING DIMSE MESSAGE ==========================\n",
      "D: Message Type                  : C-GET RSP\n",
      "D: Presentation Context ID       : 1\n",
      "D: Message ID Being Responded To : 1\n",
      "D: Affected SOP Class UID        : Patient Root Query/Retrieve Information Model - GET\n",
      "D: Remaining Sub-operations      : 291\n",
      "D: Completed Sub-operations      : 13\n",
      "D: Failed Sub-operations         : 0\n",
      "D: Warning Sub-operations        : 0\n",
      "D: Identifier                    : None\n",
      "D: Status                        : 0xFF00\n",
      "D: ============================ END DIMSE MESSAGE =============================\n",
      "D: \n",
      "I: Get SCP Response: 13 - 0xFF00 (Pending)\n",
      "I: Sub-Operations Remaining: 291, Completed: 13, Failed: 0, Warning: 0\n",
      "D: pydicom.read_dataset() TransferSyntax=\"Little Endian Implicit\"\n"
     ]
    },
    {
     "name": "stdout",
     "output_type": "stream",
     "text": [
      "C-GET query status: 0xff00\n"
     ]
    },
    {
     "name": "stderr",
     "output_type": "stream",
     "text": [
      "I: Received Store Request\n",
      "D: ========================== INCOMING DIMSE MESSAGE ==========================\n",
      "D: Message Type                  : C-STORE RQ\n",
      "D: Presentation Context ID       : 3\n",
      "D: Message ID                    : 17320\n",
      "D: Affected SOP Class UID        : CT Image Storage\n",
      "D: Affected SOP Instance UID     : 1.3.6.1.4.1.5962.99.1.1761388472.1291962045.1616669124536.2610.0\n",
      "D: Data Set                      : Present\n",
      "D: Priority                      : Medium\n",
      "D: ============================ END DIMSE MESSAGE =============================\n",
      "D: pydicom.read_dataset() TransferSyntax=\"Little Endian Explicit\"\n",
      "D: pydicom.read_dataset() TransferSyntax=\"Little Endian Implicit\"\n",
      "D: ========================== INCOMING DIMSE MESSAGE ==========================\n",
      "D: Message Type                  : C-GET RSP\n",
      "D: Presentation Context ID       : 1\n",
      "D: Message ID Being Responded To : 1\n",
      "D: Affected SOP Class UID        : Patient Root Query/Retrieve Information Model - GET\n",
      "D: Remaining Sub-operations      : 290\n",
      "D: Completed Sub-operations      : 14\n",
      "D: Failed Sub-operations         : 0\n",
      "D: Warning Sub-operations        : 0\n",
      "D: Identifier                    : None\n",
      "D: Status                        : 0xFF00\n",
      "D: ============================ END DIMSE MESSAGE =============================\n",
      "D: \n",
      "I: Get SCP Response: 14 - 0xFF00 (Pending)\n",
      "I: Sub-Operations Remaining: 290, Completed: 14, Failed: 0, Warning: 0\n",
      "D: pydicom.read_dataset() TransferSyntax=\"Little Endian Implicit\"\n"
     ]
    },
    {
     "name": "stdout",
     "output_type": "stream",
     "text": [
      "C-GET query status: 0xff00\n"
     ]
    },
    {
     "name": "stderr",
     "output_type": "stream",
     "text": [
      "I: Received Store Request\n",
      "D: ========================== INCOMING DIMSE MESSAGE ==========================\n",
      "D: Message Type                  : C-STORE RQ\n",
      "D: Presentation Context ID       : 3\n",
      "D: Message ID                    : 17321\n",
      "D: Affected SOP Class UID        : CT Image Storage\n",
      "D: Affected SOP Instance UID     : 1.3.6.1.4.1.5962.99.1.1761388472.1291962045.1616669124536.2611.0\n",
      "D: Data Set                      : Present\n",
      "D: Priority                      : Medium\n",
      "D: ============================ END DIMSE MESSAGE =============================\n",
      "D: pydicom.read_dataset() TransferSyntax=\"Little Endian Explicit\"\n",
      "D: pydicom.read_dataset() TransferSyntax=\"Little Endian Implicit\"\n",
      "D: ========================== INCOMING DIMSE MESSAGE ==========================\n",
      "D: Message Type                  : C-GET RSP\n",
      "D: Presentation Context ID       : 1\n",
      "D: Message ID Being Responded To : 1\n",
      "D: Affected SOP Class UID        : Patient Root Query/Retrieve Information Model - GET\n",
      "D: Remaining Sub-operations      : 289\n",
      "D: Completed Sub-operations      : 15\n",
      "D: Failed Sub-operations         : 0\n",
      "D: Warning Sub-operations        : 0\n",
      "D: Identifier                    : None\n",
      "D: Status                        : 0xFF00\n",
      "D: ============================ END DIMSE MESSAGE =============================\n",
      "D: \n",
      "I: Get SCP Response: 15 - 0xFF00 (Pending)\n",
      "I: Sub-Operations Remaining: 289, Completed: 15, Failed: 0, Warning: 0\n",
      "D: pydicom.read_dataset() TransferSyntax=\"Little Endian Implicit\"\n"
     ]
    },
    {
     "name": "stdout",
     "output_type": "stream",
     "text": [
      "C-GET query status: 0xff00\n"
     ]
    },
    {
     "name": "stderr",
     "output_type": "stream",
     "text": [
      "I: Received Store Request\n",
      "D: ========================== INCOMING DIMSE MESSAGE ==========================\n",
      "D: Message Type                  : C-STORE RQ\n",
      "D: Presentation Context ID       : 3\n",
      "D: Message ID                    : 17322\n",
      "D: Affected SOP Class UID        : CT Image Storage\n",
      "D: Affected SOP Instance UID     : 1.3.6.1.4.1.5962.99.1.1761388472.1291962045.1616669124536.2612.0\n",
      "D: Data Set                      : Present\n",
      "D: Priority                      : Medium\n",
      "D: ============================ END DIMSE MESSAGE =============================\n",
      "D: pydicom.read_dataset() TransferSyntax=\"Little Endian Explicit\"\n",
      "D: pydicom.read_dataset() TransferSyntax=\"Little Endian Implicit\"\n",
      "D: ========================== INCOMING DIMSE MESSAGE ==========================\n",
      "D: Message Type                  : C-GET RSP\n",
      "D: Presentation Context ID       : 1\n",
      "D: Message ID Being Responded To : 1\n",
      "D: Affected SOP Class UID        : Patient Root Query/Retrieve Information Model - GET\n",
      "D: Remaining Sub-operations      : 288\n",
      "D: Completed Sub-operations      : 16\n",
      "D: Failed Sub-operations         : 0\n",
      "D: Warning Sub-operations        : 0\n",
      "D: Identifier                    : None\n",
      "D: Status                        : 0xFF00\n",
      "D: ============================ END DIMSE MESSAGE =============================\n",
      "D: \n",
      "I: Get SCP Response: 16 - 0xFF00 (Pending)\n",
      "I: Sub-Operations Remaining: 288, Completed: 16, Failed: 0, Warning: 0\n",
      "D: pydicom.read_dataset() TransferSyntax=\"Little Endian Implicit\"\n"
     ]
    },
    {
     "name": "stdout",
     "output_type": "stream",
     "text": [
      "C-GET query status: 0xff00\n"
     ]
    },
    {
     "name": "stderr",
     "output_type": "stream",
     "text": [
      "I: Received Store Request\n",
      "D: ========================== INCOMING DIMSE MESSAGE ==========================\n",
      "D: Message Type                  : C-STORE RQ\n",
      "D: Presentation Context ID       : 3\n",
      "D: Message ID                    : 17323\n",
      "D: Affected SOP Class UID        : CT Image Storage\n",
      "D: Affected SOP Instance UID     : 1.3.6.1.4.1.5962.99.1.1761388472.1291962045.1616669124536.2613.0\n",
      "D: Data Set                      : Present\n",
      "D: Priority                      : Medium\n",
      "D: ============================ END DIMSE MESSAGE =============================\n",
      "D: pydicom.read_dataset() TransferSyntax=\"Little Endian Explicit\"\n",
      "D: pydicom.read_dataset() TransferSyntax=\"Little Endian Implicit\"\n",
      "D: ========================== INCOMING DIMSE MESSAGE ==========================\n",
      "D: Message Type                  : C-GET RSP\n",
      "D: Presentation Context ID       : 1\n",
      "D: Message ID Being Responded To : 1\n",
      "D: Affected SOP Class UID        : Patient Root Query/Retrieve Information Model - GET\n",
      "D: Remaining Sub-operations      : 287\n",
      "D: Completed Sub-operations      : 17\n",
      "D: Failed Sub-operations         : 0\n",
      "D: Warning Sub-operations        : 0\n",
      "D: Identifier                    : None\n",
      "D: Status                        : 0xFF00\n",
      "D: ============================ END DIMSE MESSAGE =============================\n",
      "D: \n",
      "D: pydicom.read_dataset() TransferSyntax=\"Little Endian Implicit\"\n",
      "I: Get SCP Response: 17 - 0xFF00 (Pending)\n",
      "I: Sub-Operations Remaining: 287, Completed: 17, Failed: 0, Warning: 0\n"
     ]
    },
    {
     "name": "stdout",
     "output_type": "stream",
     "text": [
      "C-GET query status: 0xff00\n"
     ]
    },
    {
     "name": "stderr",
     "output_type": "stream",
     "text": [
      "I: Received Store Request\n",
      "D: ========================== INCOMING DIMSE MESSAGE ==========================\n",
      "D: Message Type                  : C-STORE RQ\n",
      "D: Presentation Context ID       : 3\n",
      "D: Message ID                    : 17324\n",
      "D: Affected SOP Class UID        : CT Image Storage\n",
      "D: Affected SOP Instance UID     : 1.3.6.1.4.1.5962.99.1.1761388472.1291962045.1616669124536.2614.0\n",
      "D: Data Set                      : Present\n",
      "D: Priority                      : Medium\n",
      "D: ============================ END DIMSE MESSAGE =============================\n",
      "D: pydicom.read_dataset() TransferSyntax=\"Little Endian Explicit\"\n",
      "D: pydicom.read_dataset() TransferSyntax=\"Little Endian Implicit\"\n",
      "D: ========================== INCOMING DIMSE MESSAGE ==========================\n",
      "D: Message Type                  : C-GET RSP\n",
      "D: Presentation Context ID       : 1\n",
      "D: Message ID Being Responded To : 1\n",
      "D: Affected SOP Class UID        : Patient Root Query/Retrieve Information Model - GET\n",
      "D: Remaining Sub-operations      : 286\n",
      "D: Completed Sub-operations      : 18\n",
      "D: Failed Sub-operations         : 0\n",
      "D: Warning Sub-operations        : 0\n",
      "D: Identifier                    : None\n",
      "D: Status                        : 0xFF00\n",
      "D: ============================ END DIMSE MESSAGE =============================\n",
      "D: \n",
      "I: Get SCP Response: 18 - 0xFF00 (Pending)\n",
      "I: Sub-Operations Remaining: 286, Completed: 18, Failed: 0, Warning: 0\n",
      "D: pydicom.read_dataset() TransferSyntax=\"Little Endian Implicit\"\n"
     ]
    },
    {
     "name": "stdout",
     "output_type": "stream",
     "text": [
      "C-GET query status: 0xff00\n"
     ]
    },
    {
     "name": "stderr",
     "output_type": "stream",
     "text": [
      "I: Received Store Request\n",
      "D: ========================== INCOMING DIMSE MESSAGE ==========================\n",
      "D: Message Type                  : C-STORE RQ\n",
      "D: Presentation Context ID       : 3\n",
      "D: Message ID                    : 17325\n",
      "D: Affected SOP Class UID        : CT Image Storage\n",
      "D: Affected SOP Instance UID     : 1.3.6.1.4.1.5962.99.1.1761388472.1291962045.1616669124536.2615.0\n",
      "D: Data Set                      : Present\n",
      "D: Priority                      : Medium\n",
      "D: ============================ END DIMSE MESSAGE =============================\n",
      "D: pydicom.read_dataset() TransferSyntax=\"Little Endian Explicit\"\n",
      "D: pydicom.read_dataset() TransferSyntax=\"Little Endian Implicit\"\n",
      "D: ========================== INCOMING DIMSE MESSAGE ==========================\n",
      "D: Message Type                  : C-GET RSP\n",
      "D: Presentation Context ID       : 1\n",
      "D: Message ID Being Responded To : 1\n",
      "D: Affected SOP Class UID        : Patient Root Query/Retrieve Information Model - GET\n",
      "D: Remaining Sub-operations      : 285\n",
      "D: Completed Sub-operations      : 19\n",
      "D: Failed Sub-operations         : 0\n",
      "D: Warning Sub-operations        : 0\n",
      "D: Identifier                    : None\n",
      "D: Status                        : 0xFF00\n",
      "D: ============================ END DIMSE MESSAGE =============================\n",
      "D: \n",
      "I: Get SCP Response: 19 - 0xFF00 (Pending)\n",
      "I: Sub-Operations Remaining: 285, Completed: 19, Failed: 0, Warning: 0\n",
      "D: pydicom.read_dataset() TransferSyntax=\"Little Endian Implicit\"\n"
     ]
    },
    {
     "name": "stdout",
     "output_type": "stream",
     "text": [
      "C-GET query status: 0xff00\n"
     ]
    },
    {
     "name": "stderr",
     "output_type": "stream",
     "text": [
      "I: Received Store Request\n",
      "D: ========================== INCOMING DIMSE MESSAGE ==========================\n",
      "D: Message Type                  : C-STORE RQ\n",
      "D: Presentation Context ID       : 3\n",
      "D: Message ID                    : 17326\n",
      "D: Affected SOP Class UID        : CT Image Storage\n",
      "D: Affected SOP Instance UID     : 1.3.6.1.4.1.5962.99.1.1761388472.1291962045.1616669124536.2616.0\n",
      "D: Data Set                      : Present\n",
      "D: Priority                      : Medium\n",
      "D: ============================ END DIMSE MESSAGE =============================\n"
     ]
    },
    {
     "ename": "KeyboardInterrupt",
     "evalue": "",
     "output_type": "error",
     "traceback": [
      "\u001b[0;31m---------------------------------------------------------------------------\u001b[0m",
      "\u001b[0;31mKeyboardInterrupt\u001b[0m                         Traceback (most recent call last)",
      "\u001b[1;32m/Users/personal-macbook/Documents/projects/D7.PACS/code/Data7.PACS_DICOM/d7.pacs.ipynb Cell 9\u001b[0m in \u001b[0;36m<cell line: 59>\u001b[0;34m()\u001b[0m\n\u001b[1;32m     <a href='vscode-notebook-cell:/Users/personal-macbook/Documents/projects/D7.PACS/code/Data7.PACS_DICOM/d7.pacs.ipynb#X11sZmlsZQ%3D%3D?line=58'>59</a>\u001b[0m \u001b[39mif\u001b[39;00m assoc\u001b[39m.\u001b[39mis_established:\n\u001b[1;32m     <a href='vscode-notebook-cell:/Users/personal-macbook/Documents/projects/D7.PACS/code/Data7.PACS_DICOM/d7.pacs.ipynb#X11sZmlsZQ%3D%3D?line=59'>60</a>\u001b[0m     \u001b[39m# Use the C-GET service to send the identifier\u001b[39;00m\n\u001b[1;32m     <a href='vscode-notebook-cell:/Users/personal-macbook/Documents/projects/D7.PACS/code/Data7.PACS_DICOM/d7.pacs.ipynb#X11sZmlsZQ%3D%3D?line=60'>61</a>\u001b[0m     responses \u001b[39m=\u001b[39m assoc\u001b[39m.\u001b[39msend_c_get(ds, sop_class\u001b[39m.\u001b[39mPatientRootQueryRetrieveInformationModelGet)\n\u001b[0;32m---> <a href='vscode-notebook-cell:/Users/personal-macbook/Documents/projects/D7.PACS/code/Data7.PACS_DICOM/d7.pacs.ipynb#X11sZmlsZQ%3D%3D?line=62'>63</a>\u001b[0m     \u001b[39mfor\u001b[39;00m (status, identifier) \u001b[39min\u001b[39;00m responses:\n\u001b[1;32m     <a href='vscode-notebook-cell:/Users/personal-macbook/Documents/projects/D7.PACS/code/Data7.PACS_DICOM/d7.pacs.ipynb#X11sZmlsZQ%3D%3D?line=63'>64</a>\u001b[0m         \u001b[39mif\u001b[39;00m status:\n\u001b[1;32m     <a href='vscode-notebook-cell:/Users/personal-macbook/Documents/projects/D7.PACS/code/Data7.PACS_DICOM/d7.pacs.ipynb#X11sZmlsZQ%3D%3D?line=64'>65</a>\u001b[0m             \u001b[39mprint\u001b[39m(\u001b[39m'\u001b[39m\u001b[39mC-GET query status: 0x\u001b[39m\u001b[39m{0:04x}\u001b[39;00m\u001b[39m'\u001b[39m\u001b[39m.\u001b[39mformat(status\u001b[39m.\u001b[39mStatus))\n",
      "File \u001b[0;32m/opt/homebrew/Caskroom/miniforge/base/envs/oct/lib/python3.10/site-packages/pynetdicom/association.py:2047\u001b[0m, in \u001b[0;36mAssociation._wrap_get_move_responses\u001b[0;34m(self, transfer_syntax)\u001b[0m\n\u001b[1;32m   2043\u001b[0m operation_no \u001b[39m=\u001b[39m \u001b[39m1\u001b[39m\n\u001b[1;32m   2044\u001b[0m \u001b[39mwhile\u001b[39;00m \u001b[39mTrue\u001b[39;00m:\n\u001b[1;32m   2045\u001b[0m     \u001b[39m# Wait for DIMSE message, should be either a C-GET or\u001b[39;00m\n\u001b[1;32m   2046\u001b[0m     \u001b[39m#   C-MOVE response or a C-STORE request\u001b[39;00m\n\u001b[0;32m-> 2047\u001b[0m     cx_id, rsp \u001b[39m=\u001b[39m \u001b[39mself\u001b[39;49m\u001b[39m.\u001b[39;49mdimse\u001b[39m.\u001b[39;49mget_msg(block\u001b[39m=\u001b[39;49m\u001b[39mTrue\u001b[39;49;00m)\n\u001b[1;32m   2048\u001b[0m     \u001b[39m# Used to describe the response in the log output\u001b[39;00m\n\u001b[1;32m   2049\u001b[0m     rsp_type \u001b[39m=\u001b[39m rsp\u001b[39m.\u001b[39m\u001b[39m__class__\u001b[39m\u001b[39m.\u001b[39m\u001b[39m__name__\u001b[39m\u001b[39m.\u001b[39mreplace(\u001b[39m\"\u001b[39m\u001b[39m_\u001b[39m\u001b[39m\"\u001b[39m, \u001b[39m\"\u001b[39m\u001b[39m-\u001b[39m\u001b[39m\"\u001b[39m)\n",
      "File \u001b[0;32m/opt/homebrew/Caskroom/miniforge/base/envs/oct/lib/python3.10/site-packages/pynetdicom/dimse.py:238\u001b[0m, in \u001b[0;36mDIMSEServiceProvider.get_msg\u001b[0;34m(self, block)\u001b[0m\n\u001b[1;32m    212\u001b[0m \u001b[39m\"\"\"Get the next available DIMSE message.\u001b[39;00m\n\u001b[1;32m    213\u001b[0m \n\u001b[1;32m    214\u001b[0m \u001b[39m.. versionadded:: 1.2\u001b[39;00m\n\u001b[0;32m   (...)\u001b[0m\n\u001b[1;32m    235\u001b[0m \u001b[39m    period.\u001b[39;00m\n\u001b[1;32m    236\u001b[0m \u001b[39m\"\"\"\u001b[39;00m\n\u001b[1;32m    237\u001b[0m \u001b[39mtry\u001b[39;00m:\n\u001b[0;32m--> 238\u001b[0m     \u001b[39mreturn\u001b[39;00m \u001b[39mself\u001b[39;49m\u001b[39m.\u001b[39;49mmsg_queue\u001b[39m.\u001b[39;49mget(block\u001b[39m=\u001b[39;49mblock, timeout\u001b[39m=\u001b[39;49m\u001b[39mself\u001b[39;49m\u001b[39m.\u001b[39;49mdimse_timeout)\n\u001b[1;32m    239\u001b[0m \u001b[39mexcept\u001b[39;00m queue\u001b[39m.\u001b[39mEmpty:\n\u001b[1;32m    240\u001b[0m     \u001b[39mreturn\u001b[39;00m \u001b[39mNone\u001b[39;00m, \u001b[39mNone\u001b[39;00m\n",
      "File \u001b[0;32m/opt/homebrew/Caskroom/miniforge/base/envs/oct/lib/python3.10/queue.py:180\u001b[0m, in \u001b[0;36mQueue.get\u001b[0;34m(self, block, timeout)\u001b[0m\n\u001b[1;32m    178\u001b[0m         \u001b[39mif\u001b[39;00m remaining \u001b[39m<\u001b[39m\u001b[39m=\u001b[39m \u001b[39m0.0\u001b[39m:\n\u001b[1;32m    179\u001b[0m             \u001b[39mraise\u001b[39;00m Empty\n\u001b[0;32m--> 180\u001b[0m         \u001b[39mself\u001b[39;49m\u001b[39m.\u001b[39;49mnot_empty\u001b[39m.\u001b[39;49mwait(remaining)\n\u001b[1;32m    181\u001b[0m item \u001b[39m=\u001b[39m \u001b[39mself\u001b[39m\u001b[39m.\u001b[39m_get()\n\u001b[1;32m    182\u001b[0m \u001b[39mself\u001b[39m\u001b[39m.\u001b[39mnot_full\u001b[39m.\u001b[39mnotify()\n",
      "File \u001b[0;32m/opt/homebrew/Caskroom/miniforge/base/envs/oct/lib/python3.10/threading.py:324\u001b[0m, in \u001b[0;36mCondition.wait\u001b[0;34m(self, timeout)\u001b[0m\n\u001b[1;32m    322\u001b[0m \u001b[39melse\u001b[39;00m:\n\u001b[1;32m    323\u001b[0m     \u001b[39mif\u001b[39;00m timeout \u001b[39m>\u001b[39m \u001b[39m0\u001b[39m:\n\u001b[0;32m--> 324\u001b[0m         gotit \u001b[39m=\u001b[39m waiter\u001b[39m.\u001b[39;49macquire(\u001b[39mTrue\u001b[39;49;00m, timeout)\n\u001b[1;32m    325\u001b[0m     \u001b[39melse\u001b[39;00m:\n\u001b[1;32m    326\u001b[0m         gotit \u001b[39m=\u001b[39m waiter\u001b[39m.\u001b[39macquire(\u001b[39mFalse\u001b[39;00m)\n",
      "\u001b[0;31mKeyboardInterrupt\u001b[0m: "
     ]
    }
   ],
   "source": [
    "import pydicom\n",
    "from pynetdicom import AE, evt, build_role, debug_logger, sop_class\n",
    "from pydicom import uid\n",
    "\n",
    "\n",
    "addr = \"www.dicomserver.co.uk\"\n",
    "port = 104 # 11112\n",
    "ae_title=\"AET\"\n",
    "\n",
    "\n",
    "debug_logger()\n",
    "\n",
    "# Implement the handler for evt.EVT_C_STORE\n",
    "def handle_store(event):\n",
    "    \"\"\"Handle a C-STORE request event.\"\"\"\n",
    "    ds = event.dataset\n",
    "    ds.file_meta = event.file_meta\n",
    "\n",
    "    # Save the dataset using the SOP Instance UID as the filename\n",
    "    ds.save_as(ds.SOPInstanceUID + '.dcm', write_like_original=False)\n",
    "\n",
    "    # Return a 'Success' status\n",
    "    return 0x0000\n",
    "\n",
    "handlers = [(evt.EVT_C_STORE, handle_store)]\n",
    "\n",
    "# Initialise the Application Entity\n",
    "ae = AE()\n",
    "\n",
    "# Add the requested presentation contexts (QR SCU)\n",
    "ae.add_requested_context(sop_class.PatientRootQueryRetrieveInformationModelGet)\n",
    "\n",
    "context = sop_class.CTImageStorage\n",
    "# Add the requested presentation context (Storage SCP)\n",
    "ae.add_requested_context(context)\n",
    "\n",
    "# Create an SCP/SCU Role Selection Negotiation item for CT Image Storage\n",
    "role = build_role(context, scp_role=True)\n",
    "\n",
    "# Create our Identifier (query) dataset\n",
    "# We need to supply a Unique Key Attribute for each level above the\n",
    "#   Query/Retrieve level\n",
    "ds = pydicom.dataset.Dataset()\n",
    "ds.QueryRetrieveLevel = 'PATIENT'\n",
    "\n",
    "# Unique key for PATIENT level\n",
    "ds.PatientID = 'NOID'\n",
    "\n",
    "# Unique key for STUDY level\n",
    "# ds.StudyInstanceUID = '1.2.3'\n",
    "\n",
    "# Unique key for SERIES level\n",
    "# ds.SeriesInstanceUID = '2'\n",
    "\n",
    "# Associate with peer AE at IP 127.0.0.1 and port 11112\n",
    "assoc = ae.associate(addr=addr, port=port, ext_neg=[role], evt_handlers=handlers)\n",
    "\n",
    "if assoc.is_established:\n",
    "    # Use the C-GET service to send the identifier\n",
    "    responses = assoc.send_c_get(ds, sop_class.PatientRootQueryRetrieveInformationModelGet)\n",
    "    \n",
    "    for (status, identifier) in responses:\n",
    "        if status:\n",
    "            print('C-GET query status: 0x{0:04x}'.format(status.Status))\n",
    "        else:\n",
    "            print('Connection timed out, was aborted or received invalid response')\n",
    "\n",
    "    # Release the association\n",
    "    # assoc.release()\n",
    "else:\n",
    "    print('Association rejected, aborted or never connected')"
   ]
  },
  {
   "cell_type": "code",
   "execution_count": null,
   "metadata": {},
   "outputs": [],
   "source": []
  },
  {
   "cell_type": "code",
   "execution_count": null,
   "metadata": {},
   "outputs": [],
   "source": []
  },
  {
   "cell_type": "code",
   "execution_count": null,
   "metadata": {},
   "outputs": [],
   "source": []
  },
  {
   "cell_type": "code",
   "execution_count": null,
   "metadata": {},
   "outputs": [],
   "source": []
  },
  {
   "cell_type": "markdown",
   "metadata": {},
   "source": [
    "# Other Stuff"
   ]
  },
  {
   "cell_type": "code",
   "execution_count": 49,
   "metadata": {},
   "outputs": [
    {
     "data": {
      "text/html": [
       "<pre style=\"white-space:pre;overflow-x:auto;line-height:normal;font-family:Menlo,'DejaVu Sans Mono',consolas,'Courier New',monospace\">Requesting Association\n",
       "</pre>\n"
      ],
      "text/plain": [
       "Requesting Association\n"
      ]
     },
     "metadata": {},
     "output_type": "display_data"
    },
    {
     "data": {
      "text/html": [
       "<pre style=\"white-space:pre;overflow-x:auto;line-height:normal;font-family:Menlo,'DejaVu Sans Mono',consolas,'Courier New',monospace\">Association Accepted\n",
       "</pre>\n"
      ],
      "text/plain": [
       "Association Accepted\n"
      ]
     },
     "metadata": {},
     "output_type": "display_data"
    },
    {
     "data": {
      "text/html": [
       "<pre style=\"white-space:pre;overflow-x:auto;line-height:normal;font-family:Menlo,'DejaVu Sans Mono',consolas,'Courier New',monospace\">Sending Echo Request: MsgID 1\n",
       "</pre>\n"
      ],
      "text/plain": [
       "Sending Echo Request: MsgID 1\n"
      ]
     },
     "metadata": {},
     "output_type": "display_data"
    },
    {
     "data": {
      "text/html": [
       "<pre style=\"white-space:pre;overflow-x:auto;line-height:normal;font-family:Menlo,'DejaVu Sans Mono',consolas,'Courier New',monospace\">Received Echo Response (Status: 0x0000 - Success)\n",
       "</pre>\n"
      ],
      "text/plain": [
       "Received Echo Response (Status: 0x0000 - Success)\n"
      ]
     },
     "metadata": {},
     "output_type": "display_data"
    },
    {
     "name": "stdout",
     "output_type": "stream",
     "text": [
      "Modality responded with status: 0\n"
     ]
    },
    {
     "data": {
      "text/html": [
       "<pre style=\"white-space:pre;overflow-x:auto;line-height:normal;font-family:Menlo,'DejaVu Sans Mono',consolas,'Courier New',monospace\">Releasing Association\n",
       "</pre>\n"
      ],
      "text/plain": [
       "Releasing Association\n"
      ]
     },
     "metadata": {},
     "output_type": "display_data"
    },
    {
     "ename": "TypeError",
     "evalue": "Association.send_c_find() missing 2 required positional arguments: 'dataset' and 'query_model'",
     "output_type": "error",
     "traceback": [
      "\u001b[0;31m---------------------------------------------------------------------------\u001b[0m",
      "\u001b[0;31mTypeError\u001b[0m                                 Traceback (most recent call last)",
      "\u001b[1;32m/Users/personal-macbook/Documents/projects/D7.PACS/d7.pacs.ipynb Cell 8\u001b[0m in \u001b[0;36m<cell line: 1>\u001b[0;34m()\u001b[0m\n\u001b[1;32m      <a href='vscode-notebook-cell:/Users/personal-macbook/Documents/projects/D7.PACS/d7.pacs.ipynb#W6sZmlsZQ%3D%3D?line=6'>7</a>\u001b[0m \u001b[39mprint\u001b[39m(\u001b[39mf\u001b[39m\u001b[39m'\u001b[39m\u001b[39mModality responded with status: \u001b[39m\u001b[39m{\u001b[39;00mresp\u001b[39m.\u001b[39mStatus\u001b[39m}\u001b[39;00m\u001b[39m'\u001b[39m)\n\u001b[1;32m      <a href='vscode-notebook-cell:/Users/personal-macbook/Documents/projects/D7.PACS/d7.pacs.ipynb#W6sZmlsZQ%3D%3D?line=8'>9</a>\u001b[0m \u001b[39m# request the list of studies\u001b[39;00m\n\u001b[0;32m---> <a href='vscode-notebook-cell:/Users/personal-macbook/Documents/projects/D7.PACS/d7.pacs.ipynb#W6sZmlsZQ%3D%3D?line=9'>10</a>\u001b[0m resp \u001b[39m=\u001b[39m assoc\u001b[39m.\u001b[39;49msend_c_find()\n",
      "\u001b[0;31mTypeError\u001b[0m: Association.send_c_find() missing 2 required positional arguments: 'dataset' and 'query_model'"
     ]
    }
   ],
   "source": [
    "from dataclasses import dataclass\n",
    "\n",
    "# from pynetdicom.sop_class import VerificationSOPClass\n",
    "from pynetdicom.sop_class import VerificationServiceClass, Verification\n",
    "\n",
    "\n",
    "@dataclass\n",
    "class Modality:\n",
    "    addr: str\n",
    "    port: int\n",
    "    ae_title: str\n",
    "\n",
    "class Association:\n",
    "    def __init__(self, modality, context):\n",
    "        self.modality = modality\n",
    "        self.context = context\n",
    "\n",
    "    def __enter__(self):\n",
    "        ae = AE()\n",
    "        ae.add_requested_context(self.context)\n",
    "        self._association = ae.associate(**vars(self.modality))\n",
    "        return self._association\n",
    "\n",
    "    def __exit__(self, *args):\n",
    "        self._association.release()\n",
    "        self._association = None\n",
    "        \n",
    "        \n",
    "modality = Modality('www.dicomserver.co.uk', 104, 'AET')\n",
    "\n",
    "\n",
    "if __name__ == '__main__':\n",
    "    modality = Modality('www.dicomserver.co.uk', 104, 'AET')\n",
    "\n",
    "    with Association(modality, Verification) as assoc:\n",
    "        resp = assoc.send_c_echo()\n",
    "        # assoc.req\n",
    "        print(f'Modality responded with status: {resp.Status}')\n",
    "        \n",
    "        # request the list of studies\n",
    "        resp = assoc.send_c_find()\n",
    "        # for (status, dataset) in resp:\n",
    "        #     print(f'Modality responded with status: {status}')\n",
    "        #     if dataset:\n",
    "        #         print(dataset)\n"
   ]
  },
  {
   "cell_type": "code",
   "execution_count": null,
   "metadata": {},
   "outputs": [],
   "source": []
  }
 ],
 "metadata": {
  "kernelspec": {
   "display_name": "Python 3.10.4 ('oct')",
   "language": "python",
   "name": "python3"
  },
  "language_info": {
   "codemirror_mode": {
    "name": "ipython",
    "version": 3
   },
   "file_extension": ".py",
   "mimetype": "text/x-python",
   "name": "python",
   "nbconvert_exporter": "python",
   "pygments_lexer": "ipython3",
   "version": "3.10.4"
  },
  "orig_nbformat": 4,
  "vscode": {
   "interpreter": {
    "hash": "faedcf1d659512b14e842c396de9301a3012e9305eb08b6a32ffd623863e3cfd"
   }
  }
 },
 "nbformat": 4,
 "nbformat_minor": 2
}
