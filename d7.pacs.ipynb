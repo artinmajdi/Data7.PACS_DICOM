{
 "cells": [
  {
   "cell_type": "code",
   "execution_count": 35,
   "metadata": {},
   "outputs": [],
   "source": [
    "import pydicom\n",
    "import pynetdicom\n",
    "from pynetdicom import AE\n",
    "from pydicom import uid"
   ]
  },
  {
   "cell_type": "markdown",
   "metadata": {},
   "source": [
    "## Send a C-echo request to a verification SCP\n",
    "\n",
    "Verification SOP Class has a UID of:  1.2.840.10008.1.1\n",
    "\n",
    "we can use the UID str directly when adding the requested presentation context"
   ]
  },
  {
   "cell_type": "code",
   "execution_count": 31,
   "metadata": {},
   "outputs": [],
   "source": [
    "addr = \"www.dicomserver.co.uk\"\n",
    "port = 104 # 11112\n",
    "ae_title=\"AET\""
   ]
  },
  {
   "cell_type": "markdown",
   "metadata": {},
   "source": [
    "# <span style='color:green'> Supported DIMSE Services </span>\n",
    "## <span style='color:orange'> SCU Services </span>\n",
    "When the AE is acting as an SCU and an association has been established with a peer SCP, the following DIMSE-C and -N services are available:\n",
    "\n",
    "\n",
    "| DIMSE service\t| Association method |\n",
    "|---\t|---|\n",
    "| C-ECHO\t| Association.send_c_echo() |\n",
    "| C-FIND\t| Association.send_c_find(dataset, query_model) |\n",
    "| C-GET\t| Association.send_c_get(dataset, query_model) |\n",
    "| C-MOVE\t| Association.send_c_move(dataset, move_aet, query_model) |\n",
    "| C-STORE\t| Association.send_c_store(dataset) |\n",
    "| N-ACTION\t| Association.send_n_action(dataset, action_type, class_uid, instance_uid) |\n",
    "| N-CREATE\t| Association.send_n_create(dataset, class_uid, instance_uid) |\n",
    "| N-DELETE\t| Association.send_n_delete(class_uid, instance_uid) |\n",
    "| N-EVENT-REPORT\t| Association.send_n_event_report(dataset, event_type, class_uid, instance_uid) |\n",
    "| N-GET\t| Association.send_n_get(identifier_list, class_uid, instance_uid) |\n",
    "| N-SET\t| Association.send_n_set(dataset, class_uid, instance_uid) |"
   ]
  },
  {
   "cell_type": "code",
   "execution_count": 46,
   "metadata": {},
   "outputs": [
    {
     "name": "stdout",
     "output_type": "stream",
     "text": [
      "associate is established\n",
      "(0000, 0900) Status                              US: 0\n"
     ]
    }
   ],
   "source": [
    "uid_verification_sop_class = '1.2.840.10008.1.1'\n",
    "\n",
    "\n",
    "# Associate with a peer AE at IP\n",
    "ae = AE(ae_title=ae_title)\n",
    "\n",
    "ae.add_requested_context(uid_verification_sop_class)\n",
    "\n",
    "associate = ae.associate(addr=addr, port=port)\n",
    "print('associate is' + ('' if associate.is_established else 'not') + ' established')\n",
    "\n",
    "# Example: Send a DIMSE C-ECHO request to the peer AE </span>\n",
    "status = associate.send_c_echo()\n",
    "print(status)\n",
    "\n",
    "# associate.release()"
   ]
  },
  {
   "cell_type": "markdown",
   "metadata": {},
   "source": [
    "```python\n",
    "AE().associate.send_c_get(dataset: Dataset, query_model: Union[str, UID], msg_id: int = 1, priority: int = 2)→ Iterator[Tuple[Dataset, Optional[Dataset]]][source]¶\n",
    "\n",
    "```\n",
    "\n",
    "Parameters\n",
    "- `dataset` (`pydicom.dataset.Dataset`) – The `C-GET` request’s Identifier dataset. The exact requirements for the Identifier are Service Class specific (see the DICOM Standard, Part 4).\n",
    "\n",
    "- `query_model` (`pydicom.uid.UID` or `str`) – The value to use for the `C-GET` request’s `(0000,0002)` Affected SOP Class UID parameter, which usually corresponds to the Information Model that is to be used.\n",
    "\n",
    "- `msg_id` (`int`, `optional`) – The `C-GET` request’s Message ID, must be between `0` and `65535`, inclusive, (**`default 1`**).\n",
    "\n",
    "- `priority` (`int`, `optional`) – The `C-GET` request’s Priority parameter, must be `0` (`Medium`), `1` (`High`) or `2` (`Low`) (**`default 2`**)\n",
    "\n",
    "\n",
    "\n",
    "\n",
    "```bash\n",
    "python -m pynetdicom findscu www.dicomserver.co.uk 104 -k QueryRetrieveLevel=STUDY\n",
    "\n",
    "```"
   ]
  },
  {
   "cell_type": "code",
   "execution_count": 57,
   "metadata": {},
   "outputs": [
    {
     "data": {
      "text/plain": [
       "((0000, 0900) Status                              US: 65280,\n",
       " (0008, 0005) Specific Character Set              CS: ''\n",
       " (0008, 0052) Query/Retrieve Level                CS: 'STUDY'\n",
       " (0008, 0054) Retrieve AE Title                   AE: 'ANY-SCP')"
      ]
     },
     "execution_count": 57,
     "metadata": {},
     "output_type": "execute_result"
    }
   ],
   "source": [
    "from pynetdicom import sop_class\n",
    "\n",
    "\n",
    "# Associate with a peer AE at IP\n",
    "ae = AE(ae_title=ae_title)\n",
    "ae.add_requested_context(sop_class.PatientRootQueryRetrieveInformationModelFind)\n",
    "\n",
    "ds = pydicom.dataset.Dataset()\n",
    "ds.QueryRetrieveLevel = 'STUDY' # 'PATIENT', 'STUDY', 'SERIES', 'IMAGE'\n",
    "\n",
    "\n",
    "assoc = ae.associate(addr=addr, port=port)\n",
    "if assoc.is_established:\n",
    "    # Send the C-FIND request\n",
    "    responses = assoc.send_c_find(dataset=ds, query_model=sop_class.PatientRootQueryRetrieveInformationModelFind)\n",
    "    \n",
    "    if 0:\n",
    "        for (status, identifier) in responses:\n",
    "            if status:\n",
    "                print('C-FIND query status: 0x{0:04X}'.format(status.Status))\n",
    "            else:\n",
    "                print('Connection timed out, was aborted or received invalid response')\n",
    "\n",
    "        # Release the association\n",
    "        assoc.release()\n",
    "    \n",
    "else:\n",
    "    print('Association rejected, aborted or never connected')\n",
    "    \n",
    "    \n",
    "next(responses)"
   ]
  },
  {
   "cell_type": "code",
   "execution_count": 54,
   "metadata": {},
   "outputs": [
    {
     "data": {
      "text/plain": [
       "((0000, 0900) Status                              US: 65280,\n",
       " (0008, 0005) Specific Character Set              CS: ''\n",
       " (0008, 0052) Query/Retrieve Level                CS: 'STUDY'\n",
       " (0008, 0054) Retrieve AE Title                   AE: 'ANY-SCP')"
      ]
     },
     "execution_count": 54,
     "metadata": {},
     "output_type": "execute_result"
    }
   ],
   "source": [
    "from pydicom.dataset import Dataset\n",
    "\n",
    "from pynetdicom import AE, evt, build_role, debug_logger\n",
    "\n",
    "\n",
    "debug_logger()\n",
    "\n",
    "# Implement the handler for evt.EVT_C_STORE\n",
    "def handle_store(event):\n",
    "    \"\"\"Handle a C-STORE request event.\"\"\"\n",
    "    ds = event.dataset\n",
    "    ds.file_meta = event.file_meta\n",
    "\n",
    "    # Save the dataset using the SOP Instance UID as the filename\n",
    "    ds.save_as(ds.SOPInstanceUID, write_like_original=False)\n",
    "\n",
    "    # Return a 'Success' status\n",
    "    return 0x0000\n",
    "\n",
    "handlers = [(evt.EVT_C_STORE, handle_store)]\n",
    "\n",
    "# Initialise the Application Entity\n",
    "ae = AE()\n",
    "\n",
    "# Add the requested presentation contexts (QR SCU)\n",
    "ae.add_requested_context(sop_class.PatientRootQueryRetrieveInformationModelGet)\n",
    "\n",
    "# Add the requested presentation context (Storage SCP)\n",
    "ae.add_requested_context(sop_class.CTImageStorage)\n",
    "\n",
    "# Create an SCP/SCU Role Selection Negotiation item for CT Image Storage\n",
    "role = build_role(sop_class.CTImageStorage, scp_role=True)\n",
    "\n",
    "# Create our Identifier (query) dataset\n",
    "# We need to supply a Unique Key Attribute for each level above the\n",
    "#   Query/Retrieve level\n",
    "ds = Dataset()\n",
    "ds.QueryRetrieveLevel = 'SERIES'\n",
    "\n",
    "# Unique key for PATIENT level\n",
    "ds.PatientID = '1234567'\n",
    "\n",
    "# Unique key for STUDY level\n",
    "ds.StudyInstanceUID = '1.2.3'\n",
    "\n",
    "# Unique key for SERIES level\n",
    "ds.SeriesInstanceUID = '1.2.3.4'\n",
    "\n",
    "# Associate with peer AE at IP 127.0.0.1 and port 11112\n",
    "assoc = ae.associate(\"127.0.0.1\", 11112, ext_neg=[role], evt_handlers=handlers)\n",
    "\n",
    "if assoc.is_established:\n",
    "    # Use the C-GET service to send the identifier\n",
    "    responses = assoc.send_c_get(ds, sop_class.PatientRootQueryRetrieveInformationModelGet)\n",
    "    \n",
    "    for (status, identifier) in responses:\n",
    "        if status:\n",
    "            print('C-GET query status: 0x{0:04x}'.format(status.Status))\n",
    "        else:\n",
    "            print('Connection timed out, was aborted or received invalid response')\n",
    "\n",
    "    # Release the association\n",
    "    assoc.release()\n",
    "else:\n",
    "    print('Association rejected, aborted or never connected')"
   ]
  },
  {
   "cell_type": "code",
   "execution_count": 49,
   "metadata": {},
   "outputs": [
    {
     "data": {
      "text/html": [
       "<pre style=\"white-space:pre;overflow-x:auto;line-height:normal;font-family:Menlo,'DejaVu Sans Mono',consolas,'Courier New',monospace\">Requesting Association\n",
       "</pre>\n"
      ],
      "text/plain": [
       "Requesting Association\n"
      ]
     },
     "metadata": {},
     "output_type": "display_data"
    },
    {
     "data": {
      "text/html": [
       "<pre style=\"white-space:pre;overflow-x:auto;line-height:normal;font-family:Menlo,'DejaVu Sans Mono',consolas,'Courier New',monospace\">Association Accepted\n",
       "</pre>\n"
      ],
      "text/plain": [
       "Association Accepted\n"
      ]
     },
     "metadata": {},
     "output_type": "display_data"
    },
    {
     "data": {
      "text/html": [
       "<pre style=\"white-space:pre;overflow-x:auto;line-height:normal;font-family:Menlo,'DejaVu Sans Mono',consolas,'Courier New',monospace\">Sending Echo Request: MsgID 1\n",
       "</pre>\n"
      ],
      "text/plain": [
       "Sending Echo Request: MsgID 1\n"
      ]
     },
     "metadata": {},
     "output_type": "display_data"
    },
    {
     "data": {
      "text/html": [
       "<pre style=\"white-space:pre;overflow-x:auto;line-height:normal;font-family:Menlo,'DejaVu Sans Mono',consolas,'Courier New',monospace\">Received Echo Response (Status: 0x0000 - Success)\n",
       "</pre>\n"
      ],
      "text/plain": [
       "Received Echo Response (Status: 0x0000 - Success)\n"
      ]
     },
     "metadata": {},
     "output_type": "display_data"
    },
    {
     "name": "stdout",
     "output_type": "stream",
     "text": [
      "Modality responded with status: 0\n"
     ]
    },
    {
     "data": {
      "text/html": [
       "<pre style=\"white-space:pre;overflow-x:auto;line-height:normal;font-family:Menlo,'DejaVu Sans Mono',consolas,'Courier New',monospace\">Releasing Association\n",
       "</pre>\n"
      ],
      "text/plain": [
       "Releasing Association\n"
      ]
     },
     "metadata": {},
     "output_type": "display_data"
    },
    {
     "ename": "TypeError",
     "evalue": "Association.send_c_find() missing 2 required positional arguments: 'dataset' and 'query_model'",
     "output_type": "error",
     "traceback": [
      "\u001b[0;31m---------------------------------------------------------------------------\u001b[0m",
      "\u001b[0;31mTypeError\u001b[0m                                 Traceback (most recent call last)",
      "\u001b[1;32m/Users/personal-macbook/Documents/projects/D7.PACS/d7.pacs.ipynb Cell 8\u001b[0m in \u001b[0;36m<cell line: 1>\u001b[0;34m()\u001b[0m\n\u001b[1;32m      <a href='vscode-notebook-cell:/Users/personal-macbook/Documents/projects/D7.PACS/d7.pacs.ipynb#W6sZmlsZQ%3D%3D?line=6'>7</a>\u001b[0m \u001b[39mprint\u001b[39m(\u001b[39mf\u001b[39m\u001b[39m'\u001b[39m\u001b[39mModality responded with status: \u001b[39m\u001b[39m{\u001b[39;00mresp\u001b[39m.\u001b[39mStatus\u001b[39m}\u001b[39;00m\u001b[39m'\u001b[39m)\n\u001b[1;32m      <a href='vscode-notebook-cell:/Users/personal-macbook/Documents/projects/D7.PACS/d7.pacs.ipynb#W6sZmlsZQ%3D%3D?line=8'>9</a>\u001b[0m \u001b[39m# request the list of studies\u001b[39;00m\n\u001b[0;32m---> <a href='vscode-notebook-cell:/Users/personal-macbook/Documents/projects/D7.PACS/d7.pacs.ipynb#W6sZmlsZQ%3D%3D?line=9'>10</a>\u001b[0m resp \u001b[39m=\u001b[39m assoc\u001b[39m.\u001b[39;49msend_c_find()\n",
      "\u001b[0;31mTypeError\u001b[0m: Association.send_c_find() missing 2 required positional arguments: 'dataset' and 'query_model'"
     ]
    }
   ],
   "source": [
    "from dataclasses import dataclass\n",
    "\n",
    "# from pynetdicom.sop_class import VerificationSOPClass\n",
    "from pynetdicom.sop_class import VerificationServiceClass, Verification\n",
    "\n",
    "\n",
    "@dataclass\n",
    "class Modality:\n",
    "    addr: str\n",
    "    port: int\n",
    "    ae_title: str\n",
    "\n",
    "class Association:\n",
    "    def __init__(self, modality, context):\n",
    "        self.modality = modality\n",
    "        self.context = context\n",
    "\n",
    "    def __enter__(self):\n",
    "        ae = AE()\n",
    "        ae.add_requested_context(self.context)\n",
    "        self._association = ae.associate(**vars(self.modality))\n",
    "        return self._association\n",
    "\n",
    "    def __exit__(self, *args):\n",
    "        self._association.release()\n",
    "        self._association = None\n",
    "        \n",
    "        \n",
    "modality = Modality('www.dicomserver.co.uk', 104, 'AET')\n",
    "\n",
    "\n",
    "if __name__ == '__main__':\n",
    "    modality = Modality('www.dicomserver.co.uk', 104, 'AET')\n",
    "\n",
    "    with Association(modality, Verification) as assoc:\n",
    "        resp = assoc.send_c_echo()\n",
    "        # assoc.req\n",
    "        print(f'Modality responded with status: {resp.Status}')\n",
    "        \n",
    "        # request the list of studies\n",
    "        resp = assoc.send_c_find()\n",
    "        # for (status, dataset) in resp:\n",
    "        #     print(f'Modality responded with status: {status}')\n",
    "        #     if dataset:\n",
    "        #         print(dataset)\n"
   ]
  },
  {
   "cell_type": "code",
   "execution_count": null,
   "metadata": {},
   "outputs": [],
   "source": []
  }
 ],
 "metadata": {
  "kernelspec": {
   "display_name": "Python 3.10.4 ('oct')",
   "language": "python",
   "name": "python3"
  },
  "language_info": {
   "codemirror_mode": {
    "name": "ipython",
    "version": 3
   },
   "file_extension": ".py",
   "mimetype": "text/x-python",
   "name": "python",
   "nbconvert_exporter": "python",
   "pygments_lexer": "ipython3",
   "version": "3.10.4"
  },
  "orig_nbformat": 4,
  "vscode": {
   "interpreter": {
    "hash": "faedcf1d659512b14e842c396de9301a3012e9305eb08b6a32ffd623863e3cfd"
   }
  }
 },
 "nbformat": 4,
 "nbformat_minor": 2
}
